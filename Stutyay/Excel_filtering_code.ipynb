{
 "cells": [
  {
   "cell_type": "code",
   "execution_count": 7,
   "id": "6b4ca885",
   "metadata": {},
   "outputs": [
    {
     "name": "stdout",
     "output_type": "stream",
     "text": [
      "Results have been saved to C:\\Users\\stuti\\OneDrive\\Desktop\\temp_1\\Census 2011 Gender and literacy rate wrt urban and rural divide.xlsx in a new sheet named 'Gen_lit_rates'\n"
     ]
    }
   ],
   "source": [
    "import pandas as pd\n",
    "\n",
    "# Load the dataset\n",
    "df = pd.read_excel(r\"C:\\Users\\stuti\\OneDrive\\Desktop\\temp_1\\Census 2011 Gender and literacy rate wrt urban and rural divide.xlsx\", engine=\"openpyxl\")\n",
    "\n",
    "# Filter for ages 7 and above\n",
    "age_filter = ~df[\"Age-group\"].isin(['0-6', 'All ages'])\n",
    "\n",
    "# Group by State and Region, then calculate sums\n",
    "grouped = df[age_filter].groupby(['Area Name', 'Regions'])\n",
    "results = grouped.agg({\n",
    "    'Total Males': 'sum',\n",
    "    'Total Females': 'sum',\n",
    "    'Literate Males': 'sum',\n",
    "    'Literate Females': 'sum'\n",
    "}).reset_index()\n",
    "\n",
    "# Pivot the table to get Urban and Rural side by side\n",
    "pivoted = results.pivot(index='Area Name', columns='Regions', \n",
    "                        values=['Total Males', 'Total Females', 'Literate Males', 'Literate Females'])\n",
    "\n",
    "# Flatten column names\n",
    "pivoted.columns = [f'{col[1]}_{col[0]}' for col in pivoted.columns]\n",
    "\n",
    "# Reset index to make 'Area Name' a column again\n",
    "pivoted.reset_index(inplace=True)\n",
    "\n",
    "# Reorder columns for better readability\n",
    "column_order = ['Area Name', \n",
    "                'Rural_Total Males', 'Rural_Total Females', 'Rural_Literate Males', 'Rural_Literate Females',\n",
    "                'Urban_Total Males', 'Urban_Total Females', 'Urban_Literate Males', 'Urban_Literate Females']\n",
    "pivoted = pivoted[column_order]\n",
    "\n",
    "# Calculate total population for each category\n",
    "pivoted['Rural_Total'] = pivoted['Rural_Total Males'] + pivoted['Rural_Total Females']\n",
    "pivoted['Urban_Total'] = pivoted['Urban_Total Males'] + pivoted['Urban_Total Females']\n",
    "pivoted['Rural_Total_Literate'] = pivoted['Rural_Literate Males'] + pivoted['Rural_Literate Females']\n",
    "pivoted['Urban_Total_Literate'] = pivoted['Urban_Literate Males'] + pivoted['Urban_Literate Females']\n",
    "\n",
    "# Rearrange columns to include totals\n",
    "final_column_order = ['Area Name', \n",
    "                      'Rural_Total', 'Rural_Total Males', 'Rural_Total Females', 'Rural_Total_Literate', 'Rural_Literate Males', 'Rural_Literate Females',\n",
    "                      'Urban_Total', 'Urban_Total Males', 'Urban_Total Females', 'Urban_Total_Literate', 'Urban_Literate Males', 'Urban_Literate Females']\n",
    "pivoted = pivoted[final_column_order]\n",
    "\n",
    "# Save to the same Excel file\n",
    "output_path = r\"C:\\Users\\stuti\\OneDrive\\Desktop\\temp_1\\Census 2011 Gender and literacy rate wrt urban and rural divide.xlsx\"\n",
    "\n",
    "# Read the existing Excel file\n",
    "with pd.ExcelWriter(output_path, engine='openpyxl', mode='a') as writer:\n",
    "    # Write the new data to a new sheet named 'State_wise_Summary_with_Literacy'\n",
    "    pivoted.to_excel(writer, sheet_name='Gen_lit_rates', index=False)\n",
    "\n",
    "print(f\"Results have been saved to {output_path} in a new sheet named 'Gen_lit_rates'\")"
   ]
  },
  {
   "cell_type": "code",
   "execution_count": null,
   "id": "5ce9d3aa",
   "metadata": {},
   "outputs": [],
   "source": []
  },
  {
   "cell_type": "code",
   "execution_count": null,
   "id": "7af444bd",
   "metadata": {},
   "outputs": [],
   "source": []
  }
 ],
 "metadata": {
  "kernelspec": {
   "display_name": "Python 3 (ipykernel)",
   "language": "python",
   "name": "python3"
  },
  "language_info": {
   "codemirror_mode": {
    "name": "ipython",
    "version": 3
   },
   "file_extension": ".py",
   "mimetype": "text/x-python",
   "name": "python",
   "nbconvert_exporter": "python",
   "pygments_lexer": "ipython3",
   "version": "3.10.0"
  }
 },
 "nbformat": 4,
 "nbformat_minor": 5
}
