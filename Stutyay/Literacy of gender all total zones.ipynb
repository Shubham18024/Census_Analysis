{
 "cells": [
  {
   "cell_type": "code",
   "execution_count": 1,
   "id": "18dc4e3b",
   "metadata": {},
   "outputs": [],
   "source": [
    "#Importing the necessary Libraries \n",
    "import pandas as pd \n",
    "import plotly.graph_objects as go"
   ]
  },
  {
   "cell_type": "code",
   "execution_count": 2,
   "id": "7ffbcb81",
   "metadata": {},
   "outputs": [
    {
     "data": {
      "text/html": [
       "<div>\n",
       "<style scoped>\n",
       "    .dataframe tbody tr th:only-of-type {\n",
       "        vertical-align: middle;\n",
       "    }\n",
       "\n",
       "    .dataframe tbody tr th {\n",
       "        vertical-align: top;\n",
       "    }\n",
       "\n",
       "    .dataframe thead th {\n",
       "        text-align: right;\n",
       "    }\n",
       "</style>\n",
       "<table border=\"1\" class=\"dataframe\">\n",
       "  <thead>\n",
       "    <tr style=\"text-align: right;\">\n",
       "      <th></th>\n",
       "      <th>Zone</th>\n",
       "      <th>Rural_Total</th>\n",
       "      <th>Rural_Total Males</th>\n",
       "      <th>Rural_Total Females</th>\n",
       "      <th>Rural_Total_Literate</th>\n",
       "      <th>Rural_Literate Males</th>\n",
       "      <th>Rural_Literate Females</th>\n",
       "      <th>Urban_Total</th>\n",
       "      <th>Urban_Total Males</th>\n",
       "      <th>Urban_Total Females</th>\n",
       "      <th>Urban_Total_Literate</th>\n",
       "      <th>Urban_Literate Males</th>\n",
       "      <th>Urban_Literate Females</th>\n",
       "      <th>Rural_total_LiteracyRate(age 7+)</th>\n",
       "      <th>Urban_total_LiteracyRate(age 7+)</th>\n",
       "      <th>Rural_Male_LiteracyRate(age 7+)</th>\n",
       "      <th>Urban_Male_LiteracyRate(age 7+)</th>\n",
       "      <th>Rural_Female_LiteracyRate(age 7 +)</th>\n",
       "      <th>Urban_Female_LiteracyRate(age 7+)</th>\n",
       "    </tr>\n",
       "  </thead>\n",
       "  <tbody>\n",
       "    <tr>\n",
       "      <th>0</th>\n",
       "      <td>Nothern</td>\n",
       "      <td>86073733</td>\n",
       "      <td>44630000</td>\n",
       "      <td>41443733</td>\n",
       "      <td>57164132</td>\n",
       "      <td>34720144</td>\n",
       "      <td>22443988</td>\n",
       "      <td>50783664</td>\n",
       "      <td>26966651</td>\n",
       "      <td>23817013</td>\n",
       "      <td>42067449</td>\n",
       "      <td>23875854</td>\n",
       "      <td>18191595</td>\n",
       "      <td>66.412981</td>\n",
       "      <td>82.836577</td>\n",
       "      <td>77.795528</td>\n",
       "      <td>88.538447</td>\n",
       "      <td>54.155324</td>\n",
       "      <td>76.380674</td>\n",
       "    </tr>\n",
       "    <tr>\n",
       "      <th>1</th>\n",
       "      <td>Central</td>\n",
       "      <td>197237566</td>\n",
       "      <td>101991885</td>\n",
       "      <td>95245681</td>\n",
       "      <td>129189672</td>\n",
       "      <td>77847853</td>\n",
       "      <td>51341819</td>\n",
       "      <td>64214845</td>\n",
       "      <td>33672712</td>\n",
       "      <td>30542133</td>\n",
       "      <td>50319927</td>\n",
       "      <td>28233040</td>\n",
       "      <td>22086887</td>\n",
       "      <td>65.499527</td>\n",
       "      <td>78.361829</td>\n",
       "      <td>76.327497</td>\n",
       "      <td>83.845459</td>\n",
       "      <td>53.904616</td>\n",
       "      <td>72.316125</td>\n",
       "    </tr>\n",
       "    <tr>\n",
       "      <th>2</th>\n",
       "      <td>Eastern</td>\n",
       "      <td>180452396</td>\n",
       "      <td>92759832</td>\n",
       "      <td>87692564</td>\n",
       "      <td>118046924</td>\n",
       "      <td>68927310</td>\n",
       "      <td>49119614</td>\n",
       "      <td>49507404</td>\n",
       "      <td>25688524</td>\n",
       "      <td>23818880</td>\n",
       "      <td>41066574</td>\n",
       "      <td>22471723</td>\n",
       "      <td>18594851</td>\n",
       "      <td>65.417211</td>\n",
       "      <td>82.950368</td>\n",
       "      <td>74.307282</td>\n",
       "      <td>87.477673</td>\n",
       "      <td>56.013431</td>\n",
       "      <td>78.067697</td>\n",
       "    </tr>\n",
       "    <tr>\n",
       "      <th>3</th>\n",
       "      <td>Western</td>\n",
       "      <td>84442111</td>\n",
       "      <td>43109387</td>\n",
       "      <td>41332724</td>\n",
       "      <td>63477105</td>\n",
       "      <td>36175840</td>\n",
       "      <td>27301265</td>\n",
       "      <td>69091196</td>\n",
       "      <td>36442320</td>\n",
       "      <td>32648876</td>\n",
       "      <td>60747666</td>\n",
       "      <td>33439604</td>\n",
       "      <td>27308062</td>\n",
       "      <td>75.172333</td>\n",
       "      <td>87.923888</td>\n",
       "      <td>83.916387</td>\n",
       "      <td>91.760360</td>\n",
       "      <td>66.052421</td>\n",
       "      <td>83.641660</td>\n",
       "    </tr>\n",
       "    <tr>\n",
       "      <th>4</th>\n",
       "      <td>Southern</td>\n",
       "      <td>132477815</td>\n",
       "      <td>65997028</td>\n",
       "      <td>66480787</td>\n",
       "      <td>92332638</td>\n",
       "      <td>51237796</td>\n",
       "      <td>41094842</td>\n",
       "      <td>92665823</td>\n",
       "      <td>46143358</td>\n",
       "      <td>46522438</td>\n",
       "      <td>79802084</td>\n",
       "      <td>41764690</td>\n",
       "      <td>38037394</td>\n",
       "      <td>69.696679</td>\n",
       "      <td>86.118141</td>\n",
       "      <td>77.636520</td>\n",
       "      <td>90.510730</td>\n",
       "      <td>61.814614</td>\n",
       "      <td>81.761394</td>\n",
       "    </tr>\n",
       "    <tr>\n",
       "      <th>5</th>\n",
       "      <td>Northeastern</td>\n",
       "      <td>31519362</td>\n",
       "      <td>16089267</td>\n",
       "      <td>15430095</td>\n",
       "      <td>22394051</td>\n",
       "      <td>12346522</td>\n",
       "      <td>10047529</td>\n",
       "      <td>7476888</td>\n",
       "      <td>3815586</td>\n",
       "      <td>3661302</td>\n",
       "      <td>6683756</td>\n",
       "      <td>3530846</td>\n",
       "      <td>3152910</td>\n",
       "      <td>71.048554</td>\n",
       "      <td>89.392218</td>\n",
       "      <td>76.737629</td>\n",
       "      <td>92.537450</td>\n",
       "      <td>65.116443</td>\n",
       "      <td>86.114448</td>\n",
       "    </tr>\n",
       "  </tbody>\n",
       "</table>\n",
       "</div>"
      ],
      "text/plain": [
       "           Zone  Rural_Total  Rural_Total Males  Rural_Total Females  \\\n",
       "0       Nothern     86073733           44630000             41443733   \n",
       "1       Central    197237566          101991885             95245681   \n",
       "2       Eastern    180452396           92759832             87692564   \n",
       "3       Western     84442111           43109387             41332724   \n",
       "4     Southern     132477815           65997028             66480787   \n",
       "5  Northeastern     31519362           16089267             15430095   \n",
       "\n",
       "   Rural_Total_Literate  Rural_Literate Males  Rural_Literate Females  \\\n",
       "0              57164132              34720144                22443988   \n",
       "1             129189672              77847853                51341819   \n",
       "2             118046924              68927310                49119614   \n",
       "3              63477105              36175840                27301265   \n",
       "4              92332638              51237796                41094842   \n",
       "5              22394051              12346522                10047529   \n",
       "\n",
       "   Urban_Total  Urban_Total Males  Urban_Total Females  Urban_Total_Literate  \\\n",
       "0     50783664           26966651             23817013              42067449   \n",
       "1     64214845           33672712             30542133              50319927   \n",
       "2     49507404           25688524             23818880              41066574   \n",
       "3     69091196           36442320             32648876              60747666   \n",
       "4     92665823           46143358             46522438              79802084   \n",
       "5      7476888            3815586              3661302               6683756   \n",
       "\n",
       "   Urban_Literate Males  Urban_Literate Females  \\\n",
       "0              23875854                18191595   \n",
       "1              28233040                22086887   \n",
       "2              22471723                18594851   \n",
       "3              33439604                27308062   \n",
       "4              41764690                38037394   \n",
       "5               3530846                 3152910   \n",
       "\n",
       "   Rural_total_LiteracyRate(age 7+)  Urban_total_LiteracyRate(age 7+)  \\\n",
       "0                         66.412981                         82.836577   \n",
       "1                         65.499527                         78.361829   \n",
       "2                         65.417211                         82.950368   \n",
       "3                         75.172333                         87.923888   \n",
       "4                         69.696679                         86.118141   \n",
       "5                         71.048554                         89.392218   \n",
       "\n",
       "   Rural_Male_LiteracyRate(age 7+)  Urban_Male_LiteracyRate(age 7+)  \\\n",
       "0                        77.795528                        88.538447   \n",
       "1                        76.327497                        83.845459   \n",
       "2                        74.307282                        87.477673   \n",
       "3                        83.916387                        91.760360   \n",
       "4                        77.636520                        90.510730   \n",
       "5                        76.737629                        92.537450   \n",
       "\n",
       "   Rural_Female_LiteracyRate(age 7 +)  Urban_Female_LiteracyRate(age 7+)  \n",
       "0                           54.155324                          76.380674  \n",
       "1                           53.904616                          72.316125  \n",
       "2                           56.013431                          78.067697  \n",
       "3                           66.052421                          83.641660  \n",
       "4                           61.814614                          81.761394  \n",
       "5                           65.116443                          86.114448  "
      ]
     },
     "execution_count": 2,
     "metadata": {},
     "output_type": "execute_result"
    }
   ],
   "source": [
    "#Refined Dataset of all the Zones\n",
    "df=pd.read_excel(r\"C:\\Users\\stuti\\OneDrive\\Desktop\\temp_1\\All zones combined.xlsx\" , engine=\"openpyxl\")\n",
    "df"
   ]
  },
  {
   "cell_type": "code",
   "execution_count": 3,
   "id": "14f83365",
   "metadata": {},
   "outputs": [
    {
     "data": {
      "text/plain": [
       "Index(['Zone', 'Rural_Total', 'Rural_Total Males', 'Rural_Total Females',\n",
       "       'Rural_Total_Literate', 'Rural_Literate Males',\n",
       "       'Rural_Literate Females', 'Urban_Total', 'Urban_Total Males',\n",
       "       'Urban_Total Females', 'Urban_Total_Literate', 'Urban_Literate Males',\n",
       "       'Urban_Literate Females', 'Rural_total_LiteracyRate(age 7+)',\n",
       "       'Urban_total_LiteracyRate(age 7+)', 'Rural_Male_LiteracyRate(age 7+)',\n",
       "       'Urban_Male_LiteracyRate(age 7+)', 'Rural_Female_LiteracyRate(age 7 +)',\n",
       "       'Urban_Female_LiteracyRate(age 7+)'],\n",
       "      dtype='object')"
      ]
     },
     "execution_count": 3,
     "metadata": {},
     "output_type": "execute_result"
    }
   ],
   "source": [
    "df.columns"
   ]
  },
  {
   "cell_type": "code",
   "execution_count": 7,
   "id": "c1881556",
   "metadata": {},
   "outputs": [],
   "source": [
    "#Extracting Relevant data\n",
    "Zones=df['Zone']\n",
    "male_rural_literacy=df['Rural_Male_LiteracyRate(age 7+)']\n",
    "male_urban_literacy=df['Urban_Male_LiteracyRate(age 7+)']\n",
    "female_rural_literacy=df['Rural_Female_LiteracyRate(age 7 +)']\n",
    "female_urban_literacy=df['Urban_Female_LiteracyRate(age 7+)']"
   ]
  },
  {
   "cell_type": "code",
   "execution_count": 11,
   "id": "9d0ddc6f",
   "metadata": {},
   "outputs": [
    {
     "data": {
      "application/vnd.plotly.v1+json": {
       "config": {
        "plotlyServerURL": "https://plot.ly"
       },
       "data": [
        {
         "marker": {
          "color": "green"
         },
         "name": "Rural_Male_LiteracyRate(age 7+)",
         "type": "bar",
         "x": [
          "Nothern",
          "Central",
          "Eastern",
          "Western",
          "Southern ",
          "Northeastern"
         ],
         "y": [
          77.79552767196952,
          76.32749703567102,
          74.3072820571732,
          83.91638693447439,
          77.6365202384568,
          76.73762888017211
         ]
        },
        {
         "marker": {
          "color": "red"
         },
         "name": "Urban_Male_LiteracyRate(age 7+)",
         "type": "bar",
         "x": [
          "Nothern",
          "Central",
          "Eastern",
          "Western",
          "Southern ",
          "Northeastern"
         ],
         "y": [
          88.53844698772569,
          83.84545919556464,
          87.47767290950621,
          91.76035993317659,
          90.51072962656944,
          92.53745034183478
         ]
        },
        {
         "marker": {
          "color": "yellow"
         },
         "name": "Rural_Female_LiteracyRate(age 7 +)",
         "type": "bar",
         "x": [
          "Nothern",
          "Central",
          "Eastern",
          "Western",
          "Southern ",
          "Northeastern"
         ],
         "y": [
          54.155324280271756,
          53.90461642034982,
          56.01343119583092,
          66.05242132117883,
          61.81461419823444,
          65.11644289941184
         ]
        },
        {
         "marker": {
          "color": "violet"
         },
         "name": "Urban_Female_LiteracyRate(age 7+)",
         "type": "bar",
         "x": [
          "Nothern",
          "Central",
          "Eastern",
          "Western",
          "Southern ",
          "Northeastern"
         ],
         "y": [
          76.38067376459004,
          72.31612474479108,
          78.06769671789773,
          83.6416604357222,
          81.76139436200657,
          86.11444781118848
         ]
        }
       ],
       "layout": {
        "annotations": [
         {
          "font": {
           "color": "orange",
           "size": 10
          },
          "showarrow": false,
          "text": "national_avg_rural_literacy",
          "x": 1.02,
          "xanchor": "left",
          "xref": "paper",
          "y": 67.767,
          "yanchor": "middle",
          "yref": "y"
         },
         {
          "font": {
           "color": "blue",
           "size": 10
          },
          "showarrow": false,
          "text": "national_avg_rural_male_literacy",
          "x": 1.02,
          "xanchor": "left",
          "xref": "paper",
          "y": 77.149,
          "yanchor": "middle",
          "yref": "y"
         },
         {
          "font": {
           "color": "cyan",
           "size": 10
          },
          "showarrow": false,
          "text": "national_avg_urban_male_literacy",
          "x": 1.02,
          "xanchor": "left",
          "xref": "paper",
          "y": 88.763,
          "yanchor": "middle",
          "yref": "y"
         },
         {
          "font": {
           "color": "gray",
           "size": 10
          },
          "showarrow": false,
          "text": "national_avg_urban_female_literacy",
          "x": 1.02,
          "xanchor": "left",
          "xref": "paper",
          "y": 79.111,
          "yanchor": "middle",
          "yref": "y"
         },
         {
          "font": {
           "color": "brown",
           "size": 10
          },
          "showarrow": false,
          "text": "national_avg_rural_female_literacy",
          "x": 1.02,
          "xanchor": "left",
          "xref": "paper",
          "y": 57.927,
          "yanchor": "middle",
          "yref": "y"
         },
         {
          "font": {
           "color": "black",
           "size": 10
          },
          "showarrow": false,
          "text": "national_avg_rural_literacy",
          "x": 1.02,
          "xanchor": "left",
          "xref": "paper",
          "y": 84.107,
          "yanchor": "middle",
          "yref": "y"
         }
        ],
        "barmode": "group",
        "height": 1500,
        "legend": {
         "bgcolor": "rgba(255, 255, 255, 0)",
         "bordercolor": "rgba(255, 255, 255, 0)",
         "title": {
          "text": "Gender"
         },
         "x": 1,
         "y": 1
        },
        "plot_bgcolor": "white",
        "shapes": [
         {
          "line": {
           "color": "orange",
           "dash": "dash",
           "width": 2
          },
          "type": "line",
          "x0": 0,
          "x1": 1,
          "xref": "paper",
          "y0": 67.767,
          "y1": 67.767,
          "yref": "y"
         },
         {
          "line": {
           "color": "blue",
           "dash": "dash",
           "width": 2
          },
          "type": "line",
          "x0": 0,
          "x1": 1,
          "xref": "paper",
          "y0": 77.149,
          "y1": 77.149,
          "yref": "y"
         },
         {
          "line": {
           "color": "cyan",
           "dash": "dash",
           "width": 2
          },
          "type": "line",
          "x0": 0,
          "x1": 1,
          "xref": "paper",
          "y0": 88.763,
          "y1": 88.763,
          "yref": "y"
         },
         {
          "line": {
           "color": "gray",
           "dash": "dash",
           "width": 2
          },
          "type": "line",
          "x0": 0,
          "x1": 1,
          "xref": "paper",
          "y0": 79.111,
          "y1": 79.111,
          "yref": "y"
         },
         {
          "line": {
           "color": "brown",
           "dash": "dash",
           "width": 2
          },
          "type": "line",
          "x0": 0,
          "x1": 1,
          "xref": "paper",
          "y0": 57.927,
          "y1": 57.927,
          "yref": "y"
         },
         {
          "line": {
           "color": "black",
           "dash": "dash",
           "width": 2
          },
          "type": "line",
          "x0": 0,
          "x1": 1,
          "xref": "paper",
          "y0": 84.107,
          "y1": 84.107,
          "yref": "y"
         }
        ],
        "template": {
         "data": {
          "bar": [
           {
            "error_x": {
             "color": "#2a3f5f"
            },
            "error_y": {
             "color": "#2a3f5f"
            },
            "marker": {
             "line": {
              "color": "#E5ECF6",
              "width": 0.5
             },
             "pattern": {
              "fillmode": "overlay",
              "size": 10,
              "solidity": 0.2
             }
            },
            "type": "bar"
           }
          ],
          "barpolar": [
           {
            "marker": {
             "line": {
              "color": "#E5ECF6",
              "width": 0.5
             },
             "pattern": {
              "fillmode": "overlay",
              "size": 10,
              "solidity": 0.2
             }
            },
            "type": "barpolar"
           }
          ],
          "carpet": [
           {
            "aaxis": {
             "endlinecolor": "#2a3f5f",
             "gridcolor": "white",
             "linecolor": "white",
             "minorgridcolor": "white",
             "startlinecolor": "#2a3f5f"
            },
            "baxis": {
             "endlinecolor": "#2a3f5f",
             "gridcolor": "white",
             "linecolor": "white",
             "minorgridcolor": "white",
             "startlinecolor": "#2a3f5f"
            },
            "type": "carpet"
           }
          ],
          "choropleth": [
           {
            "colorbar": {
             "outlinewidth": 0,
             "ticks": ""
            },
            "type": "choropleth"
           }
          ],
          "contour": [
           {
            "colorbar": {
             "outlinewidth": 0,
             "ticks": ""
            },
            "colorscale": [
             [
              0,
              "#0d0887"
             ],
             [
              0.1111111111111111,
              "#46039f"
             ],
             [
              0.2222222222222222,
              "#7201a8"
             ],
             [
              0.3333333333333333,
              "#9c179e"
             ],
             [
              0.4444444444444444,
              "#bd3786"
             ],
             [
              0.5555555555555556,
              "#d8576b"
             ],
             [
              0.6666666666666666,
              "#ed7953"
             ],
             [
              0.7777777777777778,
              "#fb9f3a"
             ],
             [
              0.8888888888888888,
              "#fdca26"
             ],
             [
              1,
              "#f0f921"
             ]
            ],
            "type": "contour"
           }
          ],
          "contourcarpet": [
           {
            "colorbar": {
             "outlinewidth": 0,
             "ticks": ""
            },
            "type": "contourcarpet"
           }
          ],
          "heatmap": [
           {
            "colorbar": {
             "outlinewidth": 0,
             "ticks": ""
            },
            "colorscale": [
             [
              0,
              "#0d0887"
             ],
             [
              0.1111111111111111,
              "#46039f"
             ],
             [
              0.2222222222222222,
              "#7201a8"
             ],
             [
              0.3333333333333333,
              "#9c179e"
             ],
             [
              0.4444444444444444,
              "#bd3786"
             ],
             [
              0.5555555555555556,
              "#d8576b"
             ],
             [
              0.6666666666666666,
              "#ed7953"
             ],
             [
              0.7777777777777778,
              "#fb9f3a"
             ],
             [
              0.8888888888888888,
              "#fdca26"
             ],
             [
              1,
              "#f0f921"
             ]
            ],
            "type": "heatmap"
           }
          ],
          "heatmapgl": [
           {
            "colorbar": {
             "outlinewidth": 0,
             "ticks": ""
            },
            "colorscale": [
             [
              0,
              "#0d0887"
             ],
             [
              0.1111111111111111,
              "#46039f"
             ],
             [
              0.2222222222222222,
              "#7201a8"
             ],
             [
              0.3333333333333333,
              "#9c179e"
             ],
             [
              0.4444444444444444,
              "#bd3786"
             ],
             [
              0.5555555555555556,
              "#d8576b"
             ],
             [
              0.6666666666666666,
              "#ed7953"
             ],
             [
              0.7777777777777778,
              "#fb9f3a"
             ],
             [
              0.8888888888888888,
              "#fdca26"
             ],
             [
              1,
              "#f0f921"
             ]
            ],
            "type": "heatmapgl"
           }
          ],
          "histogram": [
           {
            "marker": {
             "pattern": {
              "fillmode": "overlay",
              "size": 10,
              "solidity": 0.2
             }
            },
            "type": "histogram"
           }
          ],
          "histogram2d": [
           {
            "colorbar": {
             "outlinewidth": 0,
             "ticks": ""
            },
            "colorscale": [
             [
              0,
              "#0d0887"
             ],
             [
              0.1111111111111111,
              "#46039f"
             ],
             [
              0.2222222222222222,
              "#7201a8"
             ],
             [
              0.3333333333333333,
              "#9c179e"
             ],
             [
              0.4444444444444444,
              "#bd3786"
             ],
             [
              0.5555555555555556,
              "#d8576b"
             ],
             [
              0.6666666666666666,
              "#ed7953"
             ],
             [
              0.7777777777777778,
              "#fb9f3a"
             ],
             [
              0.8888888888888888,
              "#fdca26"
             ],
             [
              1,
              "#f0f921"
             ]
            ],
            "type": "histogram2d"
           }
          ],
          "histogram2dcontour": [
           {
            "colorbar": {
             "outlinewidth": 0,
             "ticks": ""
            },
            "colorscale": [
             [
              0,
              "#0d0887"
             ],
             [
              0.1111111111111111,
              "#46039f"
             ],
             [
              0.2222222222222222,
              "#7201a8"
             ],
             [
              0.3333333333333333,
              "#9c179e"
             ],
             [
              0.4444444444444444,
              "#bd3786"
             ],
             [
              0.5555555555555556,
              "#d8576b"
             ],
             [
              0.6666666666666666,
              "#ed7953"
             ],
             [
              0.7777777777777778,
              "#fb9f3a"
             ],
             [
              0.8888888888888888,
              "#fdca26"
             ],
             [
              1,
              "#f0f921"
             ]
            ],
            "type": "histogram2dcontour"
           }
          ],
          "mesh3d": [
           {
            "colorbar": {
             "outlinewidth": 0,
             "ticks": ""
            },
            "type": "mesh3d"
           }
          ],
          "parcoords": [
           {
            "line": {
             "colorbar": {
              "outlinewidth": 0,
              "ticks": ""
             }
            },
            "type": "parcoords"
           }
          ],
          "pie": [
           {
            "automargin": true,
            "type": "pie"
           }
          ],
          "scatter": [
           {
            "fillpattern": {
             "fillmode": "overlay",
             "size": 10,
             "solidity": 0.2
            },
            "type": "scatter"
           }
          ],
          "scatter3d": [
           {
            "line": {
             "colorbar": {
              "outlinewidth": 0,
              "ticks": ""
             }
            },
            "marker": {
             "colorbar": {
              "outlinewidth": 0,
              "ticks": ""
             }
            },
            "type": "scatter3d"
           }
          ],
          "scattercarpet": [
           {
            "marker": {
             "colorbar": {
              "outlinewidth": 0,
              "ticks": ""
             }
            },
            "type": "scattercarpet"
           }
          ],
          "scattergeo": [
           {
            "marker": {
             "colorbar": {
              "outlinewidth": 0,
              "ticks": ""
             }
            },
            "type": "scattergeo"
           }
          ],
          "scattergl": [
           {
            "marker": {
             "colorbar": {
              "outlinewidth": 0,
              "ticks": ""
             }
            },
            "type": "scattergl"
           }
          ],
          "scattermapbox": [
           {
            "marker": {
             "colorbar": {
              "outlinewidth": 0,
              "ticks": ""
             }
            },
            "type": "scattermapbox"
           }
          ],
          "scatterpolar": [
           {
            "marker": {
             "colorbar": {
              "outlinewidth": 0,
              "ticks": ""
             }
            },
            "type": "scatterpolar"
           }
          ],
          "scatterpolargl": [
           {
            "marker": {
             "colorbar": {
              "outlinewidth": 0,
              "ticks": ""
             }
            },
            "type": "scatterpolargl"
           }
          ],
          "scatterternary": [
           {
            "marker": {
             "colorbar": {
              "outlinewidth": 0,
              "ticks": ""
             }
            },
            "type": "scatterternary"
           }
          ],
          "surface": [
           {
            "colorbar": {
             "outlinewidth": 0,
             "ticks": ""
            },
            "colorscale": [
             [
              0,
              "#0d0887"
             ],
             [
              0.1111111111111111,
              "#46039f"
             ],
             [
              0.2222222222222222,
              "#7201a8"
             ],
             [
              0.3333333333333333,
              "#9c179e"
             ],
             [
              0.4444444444444444,
              "#bd3786"
             ],
             [
              0.5555555555555556,
              "#d8576b"
             ],
             [
              0.6666666666666666,
              "#ed7953"
             ],
             [
              0.7777777777777778,
              "#fb9f3a"
             ],
             [
              0.8888888888888888,
              "#fdca26"
             ],
             [
              1,
              "#f0f921"
             ]
            ],
            "type": "surface"
           }
          ],
          "table": [
           {
            "cells": {
             "fill": {
              "color": "#EBF0F8"
             },
             "line": {
              "color": "white"
             }
            },
            "header": {
             "fill": {
              "color": "#C8D4E3"
             },
             "line": {
              "color": "white"
             }
            },
            "type": "table"
           }
          ]
         },
         "layout": {
          "annotationdefaults": {
           "arrowcolor": "#2a3f5f",
           "arrowhead": 0,
           "arrowwidth": 1
          },
          "autotypenumbers": "strict",
          "coloraxis": {
           "colorbar": {
            "outlinewidth": 0,
            "ticks": ""
           }
          },
          "colorscale": {
           "diverging": [
            [
             0,
             "#8e0152"
            ],
            [
             0.1,
             "#c51b7d"
            ],
            [
             0.2,
             "#de77ae"
            ],
            [
             0.3,
             "#f1b6da"
            ],
            [
             0.4,
             "#fde0ef"
            ],
            [
             0.5,
             "#f7f7f7"
            ],
            [
             0.6,
             "#e6f5d0"
            ],
            [
             0.7,
             "#b8e186"
            ],
            [
             0.8,
             "#7fbc41"
            ],
            [
             0.9,
             "#4d9221"
            ],
            [
             1,
             "#276419"
            ]
           ],
           "sequential": [
            [
             0,
             "#0d0887"
            ],
            [
             0.1111111111111111,
             "#46039f"
            ],
            [
             0.2222222222222222,
             "#7201a8"
            ],
            [
             0.3333333333333333,
             "#9c179e"
            ],
            [
             0.4444444444444444,
             "#bd3786"
            ],
            [
             0.5555555555555556,
             "#d8576b"
            ],
            [
             0.6666666666666666,
             "#ed7953"
            ],
            [
             0.7777777777777778,
             "#fb9f3a"
            ],
            [
             0.8888888888888888,
             "#fdca26"
            ],
            [
             1,
             "#f0f921"
            ]
           ],
           "sequentialminus": [
            [
             0,
             "#0d0887"
            ],
            [
             0.1111111111111111,
             "#46039f"
            ],
            [
             0.2222222222222222,
             "#7201a8"
            ],
            [
             0.3333333333333333,
             "#9c179e"
            ],
            [
             0.4444444444444444,
             "#bd3786"
            ],
            [
             0.5555555555555556,
             "#d8576b"
            ],
            [
             0.6666666666666666,
             "#ed7953"
            ],
            [
             0.7777777777777778,
             "#fb9f3a"
            ],
            [
             0.8888888888888888,
             "#fdca26"
            ],
            [
             1,
             "#f0f921"
            ]
           ]
          },
          "colorway": [
           "#636efa",
           "#EF553B",
           "#00cc96",
           "#ab63fa",
           "#FFA15A",
           "#19d3f3",
           "#FF6692",
           "#B6E880",
           "#FF97FF",
           "#FECB52"
          ],
          "font": {
           "color": "#2a3f5f"
          },
          "geo": {
           "bgcolor": "white",
           "lakecolor": "white",
           "landcolor": "#E5ECF6",
           "showlakes": true,
           "showland": true,
           "subunitcolor": "white"
          },
          "hoverlabel": {
           "align": "left"
          },
          "hovermode": "closest",
          "mapbox": {
           "style": "light"
          },
          "paper_bgcolor": "white",
          "plot_bgcolor": "#E5ECF6",
          "polar": {
           "angularaxis": {
            "gridcolor": "white",
            "linecolor": "white",
            "ticks": ""
           },
           "bgcolor": "#E5ECF6",
           "radialaxis": {
            "gridcolor": "white",
            "linecolor": "white",
            "ticks": ""
           }
          },
          "scene": {
           "xaxis": {
            "backgroundcolor": "#E5ECF6",
            "gridcolor": "white",
            "gridwidth": 2,
            "linecolor": "white",
            "showbackground": true,
            "ticks": "",
            "zerolinecolor": "white"
           },
           "yaxis": {
            "backgroundcolor": "#E5ECF6",
            "gridcolor": "white",
            "gridwidth": 2,
            "linecolor": "white",
            "showbackground": true,
            "ticks": "",
            "zerolinecolor": "white"
           },
           "zaxis": {
            "backgroundcolor": "#E5ECF6",
            "gridcolor": "white",
            "gridwidth": 2,
            "linecolor": "white",
            "showbackground": true,
            "ticks": "",
            "zerolinecolor": "white"
           }
          },
          "shapedefaults": {
           "line": {
            "color": "#2a3f5f"
           }
          },
          "ternary": {
           "aaxis": {
            "gridcolor": "white",
            "linecolor": "white",
            "ticks": ""
           },
           "baxis": {
            "gridcolor": "white",
            "linecolor": "white",
            "ticks": ""
           },
           "bgcolor": "#E5ECF6",
           "caxis": {
            "gridcolor": "white",
            "linecolor": "white",
            "ticks": ""
           }
          },
          "title": {
           "x": 0.05
          },
          "xaxis": {
           "automargin": true,
           "gridcolor": "white",
           "linecolor": "white",
           "ticks": "",
           "title": {
            "standoff": 15
           },
           "zerolinecolor": "white",
           "zerolinewidth": 2
          },
          "yaxis": {
           "automargin": true,
           "gridcolor": "white",
           "linecolor": "white",
           "ticks": "",
           "title": {
            "standoff": 15
           },
           "zerolinecolor": "white",
           "zerolinewidth": 2
          }
         }
        },
        "title": {
         "text": "Literacy Rate by Gender of all Zones"
        },
        "width": 1000,
        "xaxis": {
         "title": {
          "text": "States"
         }
        },
        "yaxis": {
         "title": {
          "text": "Literacy Rate(%)"
         }
        }
       }
      },
      "text/html": [
       "<div>                            <div id=\"7124b8f8-cdb8-4543-8fab-bf2560a21da4\" class=\"plotly-graph-div\" style=\"height:1500px; width:1000px;\"></div>            <script type=\"text/javascript\">                require([\"plotly\"], function(Plotly) {                    window.PLOTLYENV=window.PLOTLYENV || {};                                    if (document.getElementById(\"7124b8f8-cdb8-4543-8fab-bf2560a21da4\")) {                    Plotly.newPlot(                        \"7124b8f8-cdb8-4543-8fab-bf2560a21da4\",                        [{\"marker\":{\"color\":\"green\"},\"name\":\"Rural_Male_LiteracyRate(age 7+)\",\"x\":[\"Nothern\",\"Central\",\"Eastern\",\"Western\",\"Southern \",\"Northeastern\"],\"y\":[77.79552767196952,76.32749703567102,74.3072820571732,83.91638693447439,77.6365202384568,76.73762888017211],\"type\":\"bar\"},{\"marker\":{\"color\":\"red\"},\"name\":\"Urban_Male_LiteracyRate(age 7+)\",\"x\":[\"Nothern\",\"Central\",\"Eastern\",\"Western\",\"Southern \",\"Northeastern\"],\"y\":[88.53844698772569,83.84545919556464,87.47767290950621,91.76035993317659,90.51072962656944,92.53745034183478],\"type\":\"bar\"},{\"marker\":{\"color\":\"yellow\"},\"name\":\"Rural_Female_LiteracyRate(age 7 +)\",\"x\":[\"Nothern\",\"Central\",\"Eastern\",\"Western\",\"Southern \",\"Northeastern\"],\"y\":[54.155324280271756,53.90461642034982,56.01343119583092,66.05242132117883,61.81461419823444,65.11644289941184],\"type\":\"bar\"},{\"marker\":{\"color\":\"violet\"},\"name\":\"Urban_Female_LiteracyRate(age 7+)\",\"x\":[\"Nothern\",\"Central\",\"Eastern\",\"Western\",\"Southern \",\"Northeastern\"],\"y\":[76.38067376459004,72.31612474479108,78.06769671789773,83.6416604357222,81.76139436200657,86.11444781118848],\"type\":\"bar\"}],                        {\"template\":{\"data\":{\"histogram2dcontour\":[{\"type\":\"histogram2dcontour\",\"colorbar\":{\"outlinewidth\":0,\"ticks\":\"\"},\"colorscale\":[[0.0,\"#0d0887\"],[0.1111111111111111,\"#46039f\"],[0.2222222222222222,\"#7201a8\"],[0.3333333333333333,\"#9c179e\"],[0.4444444444444444,\"#bd3786\"],[0.5555555555555556,\"#d8576b\"],[0.6666666666666666,\"#ed7953\"],[0.7777777777777778,\"#fb9f3a\"],[0.8888888888888888,\"#fdca26\"],[1.0,\"#f0f921\"]]}],\"choropleth\":[{\"type\":\"choropleth\",\"colorbar\":{\"outlinewidth\":0,\"ticks\":\"\"}}],\"histogram2d\":[{\"type\":\"histogram2d\",\"colorbar\":{\"outlinewidth\":0,\"ticks\":\"\"},\"colorscale\":[[0.0,\"#0d0887\"],[0.1111111111111111,\"#46039f\"],[0.2222222222222222,\"#7201a8\"],[0.3333333333333333,\"#9c179e\"],[0.4444444444444444,\"#bd3786\"],[0.5555555555555556,\"#d8576b\"],[0.6666666666666666,\"#ed7953\"],[0.7777777777777778,\"#fb9f3a\"],[0.8888888888888888,\"#fdca26\"],[1.0,\"#f0f921\"]]}],\"heatmap\":[{\"type\":\"heatmap\",\"colorbar\":{\"outlinewidth\":0,\"ticks\":\"\"},\"colorscale\":[[0.0,\"#0d0887\"],[0.1111111111111111,\"#46039f\"],[0.2222222222222222,\"#7201a8\"],[0.3333333333333333,\"#9c179e\"],[0.4444444444444444,\"#bd3786\"],[0.5555555555555556,\"#d8576b\"],[0.6666666666666666,\"#ed7953\"],[0.7777777777777778,\"#fb9f3a\"],[0.8888888888888888,\"#fdca26\"],[1.0,\"#f0f921\"]]}],\"heatmapgl\":[{\"type\":\"heatmapgl\",\"colorbar\":{\"outlinewidth\":0,\"ticks\":\"\"},\"colorscale\":[[0.0,\"#0d0887\"],[0.1111111111111111,\"#46039f\"],[0.2222222222222222,\"#7201a8\"],[0.3333333333333333,\"#9c179e\"],[0.4444444444444444,\"#bd3786\"],[0.5555555555555556,\"#d8576b\"],[0.6666666666666666,\"#ed7953\"],[0.7777777777777778,\"#fb9f3a\"],[0.8888888888888888,\"#fdca26\"],[1.0,\"#f0f921\"]]}],\"contourcarpet\":[{\"type\":\"contourcarpet\",\"colorbar\":{\"outlinewidth\":0,\"ticks\":\"\"}}],\"contour\":[{\"type\":\"contour\",\"colorbar\":{\"outlinewidth\":0,\"ticks\":\"\"},\"colorscale\":[[0.0,\"#0d0887\"],[0.1111111111111111,\"#46039f\"],[0.2222222222222222,\"#7201a8\"],[0.3333333333333333,\"#9c179e\"],[0.4444444444444444,\"#bd3786\"],[0.5555555555555556,\"#d8576b\"],[0.6666666666666666,\"#ed7953\"],[0.7777777777777778,\"#fb9f3a\"],[0.8888888888888888,\"#fdca26\"],[1.0,\"#f0f921\"]]}],\"surface\":[{\"type\":\"surface\",\"colorbar\":{\"outlinewidth\":0,\"ticks\":\"\"},\"colorscale\":[[0.0,\"#0d0887\"],[0.1111111111111111,\"#46039f\"],[0.2222222222222222,\"#7201a8\"],[0.3333333333333333,\"#9c179e\"],[0.4444444444444444,\"#bd3786\"],[0.5555555555555556,\"#d8576b\"],[0.6666666666666666,\"#ed7953\"],[0.7777777777777778,\"#fb9f3a\"],[0.8888888888888888,\"#fdca26\"],[1.0,\"#f0f921\"]]}],\"mesh3d\":[{\"type\":\"mesh3d\",\"colorbar\":{\"outlinewidth\":0,\"ticks\":\"\"}}],\"scatter\":[{\"fillpattern\":{\"fillmode\":\"overlay\",\"size\":10,\"solidity\":0.2},\"type\":\"scatter\"}],\"parcoords\":[{\"type\":\"parcoords\",\"line\":{\"colorbar\":{\"outlinewidth\":0,\"ticks\":\"\"}}}],\"scatterpolargl\":[{\"type\":\"scatterpolargl\",\"marker\":{\"colorbar\":{\"outlinewidth\":0,\"ticks\":\"\"}}}],\"bar\":[{\"error_x\":{\"color\":\"#2a3f5f\"},\"error_y\":{\"color\":\"#2a3f5f\"},\"marker\":{\"line\":{\"color\":\"#E5ECF6\",\"width\":0.5},\"pattern\":{\"fillmode\":\"overlay\",\"size\":10,\"solidity\":0.2}},\"type\":\"bar\"}],\"scattergeo\":[{\"type\":\"scattergeo\",\"marker\":{\"colorbar\":{\"outlinewidth\":0,\"ticks\":\"\"}}}],\"scatterpolar\":[{\"type\":\"scatterpolar\",\"marker\":{\"colorbar\":{\"outlinewidth\":0,\"ticks\":\"\"}}}],\"histogram\":[{\"marker\":{\"pattern\":{\"fillmode\":\"overlay\",\"size\":10,\"solidity\":0.2}},\"type\":\"histogram\"}],\"scattergl\":[{\"type\":\"scattergl\",\"marker\":{\"colorbar\":{\"outlinewidth\":0,\"ticks\":\"\"}}}],\"scatter3d\":[{\"type\":\"scatter3d\",\"line\":{\"colorbar\":{\"outlinewidth\":0,\"ticks\":\"\"}},\"marker\":{\"colorbar\":{\"outlinewidth\":0,\"ticks\":\"\"}}}],\"scattermapbox\":[{\"type\":\"scattermapbox\",\"marker\":{\"colorbar\":{\"outlinewidth\":0,\"ticks\":\"\"}}}],\"scatterternary\":[{\"type\":\"scatterternary\",\"marker\":{\"colorbar\":{\"outlinewidth\":0,\"ticks\":\"\"}}}],\"scattercarpet\":[{\"type\":\"scattercarpet\",\"marker\":{\"colorbar\":{\"outlinewidth\":0,\"ticks\":\"\"}}}],\"carpet\":[{\"aaxis\":{\"endlinecolor\":\"#2a3f5f\",\"gridcolor\":\"white\",\"linecolor\":\"white\",\"minorgridcolor\":\"white\",\"startlinecolor\":\"#2a3f5f\"},\"baxis\":{\"endlinecolor\":\"#2a3f5f\",\"gridcolor\":\"white\",\"linecolor\":\"white\",\"minorgridcolor\":\"white\",\"startlinecolor\":\"#2a3f5f\"},\"type\":\"carpet\"}],\"table\":[{\"cells\":{\"fill\":{\"color\":\"#EBF0F8\"},\"line\":{\"color\":\"white\"}},\"header\":{\"fill\":{\"color\":\"#C8D4E3\"},\"line\":{\"color\":\"white\"}},\"type\":\"table\"}],\"barpolar\":[{\"marker\":{\"line\":{\"color\":\"#E5ECF6\",\"width\":0.5},\"pattern\":{\"fillmode\":\"overlay\",\"size\":10,\"solidity\":0.2}},\"type\":\"barpolar\"}],\"pie\":[{\"automargin\":true,\"type\":\"pie\"}]},\"layout\":{\"autotypenumbers\":\"strict\",\"colorway\":[\"#636efa\",\"#EF553B\",\"#00cc96\",\"#ab63fa\",\"#FFA15A\",\"#19d3f3\",\"#FF6692\",\"#B6E880\",\"#FF97FF\",\"#FECB52\"],\"font\":{\"color\":\"#2a3f5f\"},\"hovermode\":\"closest\",\"hoverlabel\":{\"align\":\"left\"},\"paper_bgcolor\":\"white\",\"plot_bgcolor\":\"#E5ECF6\",\"polar\":{\"bgcolor\":\"#E5ECF6\",\"angularaxis\":{\"gridcolor\":\"white\",\"linecolor\":\"white\",\"ticks\":\"\"},\"radialaxis\":{\"gridcolor\":\"white\",\"linecolor\":\"white\",\"ticks\":\"\"}},\"ternary\":{\"bgcolor\":\"#E5ECF6\",\"aaxis\":{\"gridcolor\":\"white\",\"linecolor\":\"white\",\"ticks\":\"\"},\"baxis\":{\"gridcolor\":\"white\",\"linecolor\":\"white\",\"ticks\":\"\"},\"caxis\":{\"gridcolor\":\"white\",\"linecolor\":\"white\",\"ticks\":\"\"}},\"coloraxis\":{\"colorbar\":{\"outlinewidth\":0,\"ticks\":\"\"}},\"colorscale\":{\"sequential\":[[0.0,\"#0d0887\"],[0.1111111111111111,\"#46039f\"],[0.2222222222222222,\"#7201a8\"],[0.3333333333333333,\"#9c179e\"],[0.4444444444444444,\"#bd3786\"],[0.5555555555555556,\"#d8576b\"],[0.6666666666666666,\"#ed7953\"],[0.7777777777777778,\"#fb9f3a\"],[0.8888888888888888,\"#fdca26\"],[1.0,\"#f0f921\"]],\"sequentialminus\":[[0.0,\"#0d0887\"],[0.1111111111111111,\"#46039f\"],[0.2222222222222222,\"#7201a8\"],[0.3333333333333333,\"#9c179e\"],[0.4444444444444444,\"#bd3786\"],[0.5555555555555556,\"#d8576b\"],[0.6666666666666666,\"#ed7953\"],[0.7777777777777778,\"#fb9f3a\"],[0.8888888888888888,\"#fdca26\"],[1.0,\"#f0f921\"]],\"diverging\":[[0,\"#8e0152\"],[0.1,\"#c51b7d\"],[0.2,\"#de77ae\"],[0.3,\"#f1b6da\"],[0.4,\"#fde0ef\"],[0.5,\"#f7f7f7\"],[0.6,\"#e6f5d0\"],[0.7,\"#b8e186\"],[0.8,\"#7fbc41\"],[0.9,\"#4d9221\"],[1,\"#276419\"]]},\"xaxis\":{\"gridcolor\":\"white\",\"linecolor\":\"white\",\"ticks\":\"\",\"title\":{\"standoff\":15},\"zerolinecolor\":\"white\",\"automargin\":true,\"zerolinewidth\":2},\"yaxis\":{\"gridcolor\":\"white\",\"linecolor\":\"white\",\"ticks\":\"\",\"title\":{\"standoff\":15},\"zerolinecolor\":\"white\",\"automargin\":true,\"zerolinewidth\":2},\"scene\":{\"xaxis\":{\"backgroundcolor\":\"#E5ECF6\",\"gridcolor\":\"white\",\"linecolor\":\"white\",\"showbackground\":true,\"ticks\":\"\",\"zerolinecolor\":\"white\",\"gridwidth\":2},\"yaxis\":{\"backgroundcolor\":\"#E5ECF6\",\"gridcolor\":\"white\",\"linecolor\":\"white\",\"showbackground\":true,\"ticks\":\"\",\"zerolinecolor\":\"white\",\"gridwidth\":2},\"zaxis\":{\"backgroundcolor\":\"#E5ECF6\",\"gridcolor\":\"white\",\"linecolor\":\"white\",\"showbackground\":true,\"ticks\":\"\",\"zerolinecolor\":\"white\",\"gridwidth\":2}},\"shapedefaults\":{\"line\":{\"color\":\"#2a3f5f\"}},\"annotationdefaults\":{\"arrowcolor\":\"#2a3f5f\",\"arrowhead\":0,\"arrowwidth\":1},\"geo\":{\"bgcolor\":\"white\",\"landcolor\":\"#E5ECF6\",\"subunitcolor\":\"white\",\"showland\":true,\"showlakes\":true,\"lakecolor\":\"white\"},\"title\":{\"x\":0.05},\"mapbox\":{\"style\":\"light\"}}},\"shapes\":[{\"line\":{\"color\":\"orange\",\"dash\":\"dash\",\"width\":2},\"type\":\"line\",\"x0\":0,\"x1\":1,\"xref\":\"paper\",\"y0\":67.767,\"y1\":67.767,\"yref\":\"y\"},{\"line\":{\"color\":\"blue\",\"dash\":\"dash\",\"width\":2},\"type\":\"line\",\"x0\":0,\"x1\":1,\"xref\":\"paper\",\"y0\":77.149,\"y1\":77.149,\"yref\":\"y\"},{\"line\":{\"color\":\"cyan\",\"dash\":\"dash\",\"width\":2},\"type\":\"line\",\"x0\":0,\"x1\":1,\"xref\":\"paper\",\"y0\":88.763,\"y1\":88.763,\"yref\":\"y\"},{\"line\":{\"color\":\"gray\",\"dash\":\"dash\",\"width\":2},\"type\":\"line\",\"x0\":0,\"x1\":1,\"xref\":\"paper\",\"y0\":79.111,\"y1\":79.111,\"yref\":\"y\"},{\"line\":{\"color\":\"brown\",\"dash\":\"dash\",\"width\":2},\"type\":\"line\",\"x0\":0,\"x1\":1,\"xref\":\"paper\",\"y0\":57.927,\"y1\":57.927,\"yref\":\"y\"},{\"line\":{\"color\":\"black\",\"dash\":\"dash\",\"width\":2},\"type\":\"line\",\"x0\":0,\"x1\":1,\"xref\":\"paper\",\"y0\":84.107,\"y1\":84.107,\"yref\":\"y\"}],\"annotations\":[{\"font\":{\"color\":\"orange\",\"size\":10},\"showarrow\":false,\"text\":\"national_avg_rural_literacy\",\"x\":1.02,\"xanchor\":\"left\",\"xref\":\"paper\",\"y\":67.767,\"yanchor\":\"middle\",\"yref\":\"y\"},{\"font\":{\"color\":\"blue\",\"size\":10},\"showarrow\":false,\"text\":\"national_avg_rural_male_literacy\",\"x\":1.02,\"xanchor\":\"left\",\"xref\":\"paper\",\"y\":77.149,\"yanchor\":\"middle\",\"yref\":\"y\"},{\"font\":{\"color\":\"cyan\",\"size\":10},\"showarrow\":false,\"text\":\"national_avg_urban_male_literacy\",\"x\":1.02,\"xanchor\":\"left\",\"xref\":\"paper\",\"y\":88.763,\"yanchor\":\"middle\",\"yref\":\"y\"},{\"font\":{\"color\":\"gray\",\"size\":10},\"showarrow\":false,\"text\":\"national_avg_urban_female_literacy\",\"x\":1.02,\"xanchor\":\"left\",\"xref\":\"paper\",\"y\":79.111,\"yanchor\":\"middle\",\"yref\":\"y\"},{\"font\":{\"color\":\"brown\",\"size\":10},\"showarrow\":false,\"text\":\"national_avg_rural_female_literacy\",\"x\":1.02,\"xanchor\":\"left\",\"xref\":\"paper\",\"y\":57.927,\"yanchor\":\"middle\",\"yref\":\"y\"},{\"font\":{\"color\":\"black\",\"size\":10},\"showarrow\":false,\"text\":\"national_avg_rural_literacy\",\"x\":1.02,\"xanchor\":\"left\",\"xref\":\"paper\",\"y\":84.107,\"yanchor\":\"middle\",\"yref\":\"y\"}],\"legend\":{\"title\":{\"text\":\"Gender\"},\"x\":1,\"y\":1,\"bgcolor\":\"rgba(255, 255, 255, 0)\",\"bordercolor\":\"rgba(255, 255, 255, 0)\"},\"title\":{\"text\":\"Literacy Rate by Gender of all Zones\"},\"xaxis\":{\"title\":{\"text\":\"States\"}},\"yaxis\":{\"title\":{\"text\":\"Literacy Rate(%)\"}},\"barmode\":\"group\",\"width\":1000,\"height\":1500,\"plot_bgcolor\":\"white\"},                        {\"responsive\": true}                    ).then(function(){\n",
       "                            \n",
       "var gd = document.getElementById('7124b8f8-cdb8-4543-8fab-bf2560a21da4');\n",
       "var x = new MutationObserver(function (mutations, observer) {{\n",
       "        var display = window.getComputedStyle(gd).display;\n",
       "        if (!display || display === 'none') {{\n",
       "            console.log([gd, 'removed!']);\n",
       "            Plotly.purge(gd);\n",
       "            observer.disconnect();\n",
       "        }}\n",
       "}});\n",
       "\n",
       "// Listen for the removal of the full notebook cells\n",
       "var notebookContainer = gd.closest('#notebook-container');\n",
       "if (notebookContainer) {{\n",
       "    x.observe(notebookContainer, {childList: true});\n",
       "}}\n",
       "\n",
       "// Listen for the clearing of the current output cell\n",
       "var outputEl = gd.closest('.output');\n",
       "if (outputEl) {{\n",
       "    x.observe(outputEl, {childList: true});\n",
       "}}\n",
       "\n",
       "                        })                };                });            </script>        </div>"
      ]
     },
     "metadata": {},
     "output_type": "display_data"
    }
   ],
   "source": [
    "# National average literacy rates wrt to urban and rural(Source:\"\")\n",
    "national_avg_rural_literacy = 67.767\n",
    "national_avg_urban_literacy = 84.107\n",
    "national_avg_rural_male_literacy = 77.149\n",
    "national_avg_urban_male_literacy = 88.763\n",
    "national_avg_rural_female_literacy = 57.927\n",
    "national_avg_urban_female_literacy = 79.111\n",
    "#Create the bar plot for male and female literacy wrt to urban and rural division\n",
    "fig=go.Figure()\n",
    "\n",
    "fig.add_trace(go.Bar(\n",
    "       x=Zones,\n",
    "       y=male_rural_literacy,\n",
    "       name='Rural_Male_LiteracyRate(age 7+)',\n",
    "    marker_color='green'\n",
    "))\n",
    "\n",
    "fig.add_trace(go.Bar(\n",
    "       x=states,\n",
    "       y=male_urban_literacy,\n",
    "       name='Urban_Male_LiteracyRate(age 7+)',\n",
    "      marker_color='red'\n",
    "))\n",
    "\n",
    "fig.add_trace(go.Bar(\n",
    "        x=Zones,\n",
    "         y=female_rural_literacy,\n",
    "         name='Rural_Female_LiteracyRate(age 7 +)',\n",
    "         marker_color='yellow'\n",
    "))\n",
    "\n",
    "fig.add_trace(go.Bar(\n",
    "       x=Zones,\n",
    "       y=female_urban_literacy,\n",
    "       name='Urban_Female_LiteracyRate(age 7+)',\n",
    "       marker_color='violet'\n",
    "\n",
    "))\n",
    "\n",
    "#Adding Horizontal national average line with labelling \n",
    "fig.add_shape(\n",
    "       type=\"line\",\n",
    "        x0=0,\n",
    "        y0=national_avg_rural_literacy,\n",
    "        x1=1,\n",
    "        y1=national_avg_rural_literacy,\n",
    "        line=dict(color='orange', width=2, dash=\"dash\"),\n",
    "        xref=\"paper\",\n",
    "        yref=\"y\"\n",
    ")\n",
    "\n",
    "\n",
    "fig.add_annotation(\n",
    "         x=1.02,\n",
    "         y=national_avg_rural_literacy,\n",
    "         xref=\"paper\",\n",
    "         yref=\"y\",\n",
    "          text=\"national_avg_rural_literacy\",\n",
    "          showarrow=False,\n",
    "           font=dict(color=\"orange\" , size=10),\n",
    "            xanchor=\"left\",\n",
    "             yanchor=\"middle\"\n",
    ")\n",
    "\n",
    "fig.add_shape(\n",
    "       type=\"line\",\n",
    "        x0=0,\n",
    "        y0=national_avg_rural_male_literacy,\n",
    "        x1=1,\n",
    "        y1=national_avg_rural_male_literacy,\n",
    "        line=dict(color='blue', width=2, dash=\"dash\"),\n",
    "        xref=\"paper\",\n",
    "        yref=\"y\"\n",
    ")\n",
    "\n",
    "fig.add_annotation(\n",
    "         x=1.02,\n",
    "         y=national_avg_rural_male_literacy,\n",
    "         xref=\"paper\",\n",
    "         yref=\"y\",\n",
    "          text=\"national_avg_rural_male_literacy\",\n",
    "          showarrow=False,\n",
    "           font=dict(color=\"blue\" , size=10),\n",
    "            xanchor=\"left\",\n",
    "             yanchor=\"middle\"\n",
    ")\n",
    "\n",
    "fig.add_shape(\n",
    "       type=\"line\",\n",
    "        x0=0,\n",
    "        y0=national_avg_urban_male_literacy,\n",
    "        x1=1,\n",
    "        y1=national_avg_urban_male_literacy,\n",
    "        line=dict(color='cyan', width=2, dash=\"dash\"),\n",
    "        xref=\"paper\",\n",
    "        yref=\"y\"\n",
    ")\n",
    "\n",
    "fig.add_annotation(\n",
    "         x=1.02,\n",
    "         y=national_avg_urban_male_literacy,\n",
    "         xref=\"paper\",\n",
    "         yref=\"y\",\n",
    "          text=\"national_avg_urban_male_literacy\",\n",
    "          showarrow=False,\n",
    "           font=dict(color=\"cyan\" , size=10),\n",
    "            xanchor=\"left\",\n",
    "             yanchor=\"middle\"\n",
    ")\n",
    "\n",
    "fig.add_shape(\n",
    "       type=\"line\",\n",
    "        x0=0,\n",
    "        y0=national_avg_urban_female_literacy,\n",
    "        x1=1,\n",
    "        y1=national_avg_urban_female_literacy,\n",
    "        line=dict(color='gray', width=2, dash=\"dash\"),\n",
    "        xref=\"paper\",\n",
    "        yref=\"y\"\n",
    ")\n",
    "\n",
    "\n",
    "fig.add_annotation(\n",
    "         x=1.02,\n",
    "         y=national_avg_urban_female_literacy,\n",
    "         xref=\"paper\",\n",
    "         yref=\"y\",\n",
    "          text=\"national_avg_urban_female_literacy\",\n",
    "          showarrow=False,\n",
    "           font=dict(color=\"gray\" , size=10),\n",
    "            xanchor=\"left\",\n",
    "             yanchor=\"middle\"\n",
    ")\n",
    "    \n",
    "fig.add_shape(\n",
    "       type=\"line\",\n",
    "        x0=0,\n",
    "        y0=national_avg_rural_female_literacy,\n",
    "        x1=1,\n",
    "        y1=national_avg_rural_female_literacy,\n",
    "        line=dict(color=\"brown\", width=2, dash=\"dash\"),\n",
    "        xref=\"paper\",\n",
    "        yref=\"y\"\n",
    ")\n",
    " \n",
    "fig.add_annotation(\n",
    "         x=1.02,\n",
    "         y=national_avg_rural_female_literacy,\n",
    "         xref=\"paper\",\n",
    "         yref=\"y\",\n",
    "          text=\"national_avg_rural_female_literacy\",\n",
    "          showarrow=False,\n",
    "           font=dict(color=\"brown\" , size=10),\n",
    "            xanchor=\"left\",\n",
    "             yanchor=\"middle\"\n",
    ")\n",
    "\n",
    "\n",
    "fig.add_shape(\n",
    "       type=\"line\",\n",
    "        x0=0,\n",
    "        y0=national_avg_urban_literacy,\n",
    "        x1=1,\n",
    "        y1=national_avg_urban_literacy,\n",
    "        line=dict(color='black', width=2, dash=\"dash\"),\n",
    "        xref=\"paper\",\n",
    "        yref=\"y\"\n",
    ")\n",
    "\n",
    "fig.add_annotation(\n",
    "         x=1.02,\n",
    "         y=national_avg_urban_literacy,\n",
    "         xref=\"paper\",\n",
    "         yref=\"y\",\n",
    "          text=\"national_avg_rural_literacy\",\n",
    "          showarrow=False,\n",
    "           font=dict(color=\"black\" , size=10),\n",
    "            xanchor=\"left\",\n",
    "             yanchor=\"middle\"\n",
    ")\n",
    "    \n",
    "    \n",
    "#Update Layout\n",
    "fig.update_layout(\n",
    "         title=\"Literacy Rate by Gender of all Zones\",\n",
    "          xaxis_title=\"States\",\n",
    "          yaxis_title=\"Literacy Rate(%)\",\n",
    "          barmode=\"group\",\n",
    "          legend_title=\"Gender\",\n",
    "           width=1000,\n",
    "           height=1500,\n",
    "    \n",
    "        #Adjust Legend\n",
    "        legend=dict(\n",
    "         x=1,\n",
    "         y=1,\n",
    "        bgcolor='rgba(255, 255, 255, 0)',\n",
    "        bordercolor='rgba(255, 255, 255, 0)' \n",
    "    ),\n",
    "\n",
    "    \n",
    "    # Set background color to white\n",
    "    plot_bgcolor='white'\n",
    "\n",
    ")\n",
    "\n",
    "#Show plot\n",
    "fig.show()\n",
    "    \n",
    "# Conversion of png image to html to view interactive plot\n",
    "fig.write_html(\"literacy_rate_by_gender_of_all_Zones.html\")\n"
   ]
  },
  {
   "cell_type": "markdown",
   "id": "4a6dca5a",
   "metadata": {},
   "source": [
    "[View Output](https://Shubham18024.github.io/Census_Analysis/Stutyay/literacy_rate_by_gender_of_all_Zones.html)"
   ]
  },
  {
   "cell_type": "code",
   "execution_count": null,
   "id": "bd8a2fcc",
   "metadata": {},
   "outputs": [],
   "source": []
  }
 ],
 "metadata": {
  "kernelspec": {
   "display_name": "Python 3 (ipykernel)",
   "language": "python",
   "name": "python3"
  },
  "language_info": {
   "codemirror_mode": {
    "name": "ipython",
    "version": 3
   },
   "file_extension": ".py",
   "mimetype": "text/x-python",
   "name": "python",
   "nbconvert_exporter": "python",
   "pygments_lexer": "ipython3",
   "version": "3.10.0"
  }
 },
 "nbformat": 4,
 "nbformat_minor": 5
}
