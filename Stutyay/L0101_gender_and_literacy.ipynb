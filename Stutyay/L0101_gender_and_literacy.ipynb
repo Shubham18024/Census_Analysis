{
 "cells": [
  {
   "cell_type": "markdown",
   "id": "ce0c467c-8936-4322-9194-128ecaf9a8d9",
   "metadata": {},
   "source": [
    "#Analysis of Literacy Rate by Gender in different sates and UTs of India(2011)\n"
   ]
  },
  {
   "cell_type": "markdown",
   "id": "7af5dd5d-00c5-4db1-8fad-74d959efba79",
   "metadata": {},
   "source": [
    "##AIM\n",
    "The objective of this analysis is to visualise the literacy rate of Males and Females from all the states of the year 2011 and to compare them with the national average literacy rate of both the genders. "
   ]
  },
  {
   "cell_type": "markdown",
   "id": "49ecb636-75f8-4983-b20f-f6cbd52a0538",
   "metadata": {},
   "source": [
    "##Formula for Calculating the Literacy Rate\n",
    "Literacy Rate of Males = Total Male literates(age 7 and above)/Totla Male Population(age 7 and above)*100\n",
    "Literacy Rate of Females=Total Female literates(age 7 and above)/Total Female POpulation(age 7 and above)*100\n"
   ]
  },
  {
   "cell_type": "markdown",
   "id": "df18719c-5f1d-4744-94e8-5d47d1fb8da4",
   "metadata": {},
   "source": [
    "##Source for Date\n",
    "The data used for this analysis is sourced from Census of India 2011. The original data can be downloaded from the census website:Census Data 2011"
   ]
  },
  {
   "cell_type": "markdown",
   "id": "9a873fd7-e50d-4a94-b87b-9c0b0f935f96",
   "metadata": {},
   "source": [
    "##Refined Data \n",
    "The data has been refined to study the literacy rate of Males and Females of different state along with the comparison to the national average literacy rate. The refined data can be found here in the Github:https://github.com/Shubham18024/Census_Analysis/blob/f4b7c23a88dc13fd21d5a5642edca5d5cecdef6f/CSV%20files%20for%201991%2C2001%2C2011/2011%20Gender%20Literacy%20Rate.xlsx"
   ]
  },
  {
   "cell_type": "markdown",
   "id": "872f5711-5724-4765-8cd8-1b04dac0e982",
   "metadata": {},
   "source": [
    "##Visualisation\n",
    "Below is the code written to generate a grouped Bar chat of literacy rates males and females of different state along with a comparsion to the national average literacy rate."
   ]
  },
  {
   "cell_type": "code",
   "execution_count": 2,
   "id": "22028839-d783-45cb-b94a-cd03148f57d3",
   "metadata": {},
   "outputs": [],
   "source": [
    "import pandas as pd\n",
    "import plotly.graph_objects as go"
   ]
  },
  {
   "cell_type": "code",
   "execution_count": 3,
   "id": "f0d721c6-5f1c-4391-95b4-6758834ebaf8",
   "metadata": {},
   "outputs": [
    {
     "data": {
      "text/html": [
       "<div>\n",
       "<style scoped>\n",
       "    .dataframe tbody tr th:only-of-type {\n",
       "        vertical-align: middle;\n",
       "    }\n",
       "\n",
       "    .dataframe tbody tr th {\n",
       "        vertical-align: top;\n",
       "    }\n",
       "\n",
       "    .dataframe thead th {\n",
       "        text-align: right;\n",
       "    }\n",
       "</style>\n",
       "<table border=\"1\" class=\"dataframe\">\n",
       "  <thead>\n",
       "    <tr style=\"text-align: right;\">\n",
       "      <th></th>\n",
       "      <th>S.No.</th>\n",
       "      <th>Area Name</th>\n",
       "      <th>Totak Population</th>\n",
       "      <th>Total Male Population</th>\n",
       "      <th>Male Population Age 7 and above</th>\n",
       "      <th>Total Female Population</th>\n",
       "      <th>Female Population Age 7 and above</th>\n",
       "      <th>Total Illiterates</th>\n",
       "      <th>Male Illiterates</th>\n",
       "      <th>Female Illiterates</th>\n",
       "      <th>Total Literates</th>\n",
       "      <th>Male Literates</th>\n",
       "      <th>Female Literates</th>\n",
       "      <th>Male Literacy Rate</th>\n",
       "      <th>Female Literacy Rate</th>\n",
       "    </tr>\n",
       "  </thead>\n",
       "  <tbody>\n",
       "    <tr>\n",
       "      <th>0</th>\n",
       "      <td>1</td>\n",
       "      <td>INDIA</td>\n",
       "      <td>1210854977</td>\n",
       "      <td>623270258</td>\n",
       "      <td>537518004</td>\n",
       "      <td>587584719</td>\n",
       "      <td>508821720</td>\n",
       "      <td>447216165</td>\n",
       "      <td>188506636</td>\n",
       "      <td>258709529</td>\n",
       "      <td>763638812</td>\n",
       "      <td>434763622</td>\n",
       "      <td>328875190</td>\n",
       "      <td>80.883546</td>\n",
       "      <td>64.634660</td>\n",
       "    </tr>\n",
       "    <tr>\n",
       "      <th>1</th>\n",
       "      <td>2</td>\n",
       "      <td>State - JAMMU &amp; KASHMIR</td>\n",
       "      <td>12541302</td>\n",
       "      <td>6640662</td>\n",
       "      <td>5556307</td>\n",
       "      <td>5900640</td>\n",
       "      <td>4966090</td>\n",
       "      <td>5474069</td>\n",
       "      <td>2375991</td>\n",
       "      <td>3098078</td>\n",
       "      <td>7067233</td>\n",
       "      <td>4264671</td>\n",
       "      <td>2802562</td>\n",
       "      <td>76.753696</td>\n",
       "      <td>56.433975</td>\n",
       "    </tr>\n",
       "    <tr>\n",
       "      <th>2</th>\n",
       "      <td>3</td>\n",
       "      <td>State - HIMACHAL PRADESH</td>\n",
       "      <td>6864602</td>\n",
       "      <td>3481873</td>\n",
       "      <td>3074414</td>\n",
       "      <td>3382729</td>\n",
       "      <td>3012290</td>\n",
       "      <td>1824866</td>\n",
       "      <td>729283</td>\n",
       "      <td>1095583</td>\n",
       "      <td>5039736</td>\n",
       "      <td>2752590</td>\n",
       "      <td>2287146</td>\n",
       "      <td>89.532184</td>\n",
       "      <td>75.927152</td>\n",
       "    </tr>\n",
       "    <tr>\n",
       "      <th>3</th>\n",
       "      <td>4</td>\n",
       "      <td>State - PUNJAB</td>\n",
       "      <td>27743338</td>\n",
       "      <td>14639465</td>\n",
       "      <td>12973471</td>\n",
       "      <td>13103873</td>\n",
       "      <td>11693648</td>\n",
       "      <td>9036201</td>\n",
       "      <td>4203409</td>\n",
       "      <td>4832792</td>\n",
       "      <td>18707137</td>\n",
       "      <td>10436056</td>\n",
       "      <td>8271081</td>\n",
       "      <td>80.441510</td>\n",
       "      <td>70.731401</td>\n",
       "    </tr>\n",
       "    <tr>\n",
       "      <th>4</th>\n",
       "      <td>5</td>\n",
       "      <td>State - CHANDIGARH</td>\n",
       "      <td>1055450</td>\n",
       "      <td>580663</td>\n",
       "      <td>517127</td>\n",
       "      <td>474787</td>\n",
       "      <td>418889</td>\n",
       "      <td>250012</td>\n",
       "      <td>115317</td>\n",
       "      <td>134695</td>\n",
       "      <td>805438</td>\n",
       "      <td>465346</td>\n",
       "      <td>340092</td>\n",
       "      <td>89.986792</td>\n",
       "      <td>81.189050</td>\n",
       "    </tr>\n",
       "    <tr>\n",
       "      <th>5</th>\n",
       "      <td>6</td>\n",
       "      <td>State - UTTARAKHAND</td>\n",
       "      <td>10086292</td>\n",
       "      <td>5137773</td>\n",
       "      <td>4420574</td>\n",
       "      <td>4948519</td>\n",
       "      <td>4309904</td>\n",
       "      <td>3205339</td>\n",
       "      <td>1274065</td>\n",
       "      <td>1931274</td>\n",
       "      <td>6880953</td>\n",
       "      <td>3863708</td>\n",
       "      <td>3017245</td>\n",
       "      <td>87.402858</td>\n",
       "      <td>70.007244</td>\n",
       "    </tr>\n",
       "    <tr>\n",
       "      <th>6</th>\n",
       "      <td>7</td>\n",
       "      <td>State - HARYANA</td>\n",
       "      <td>25351462</td>\n",
       "      <td>13494734</td>\n",
       "      <td>11651625</td>\n",
       "      <td>11856728</td>\n",
       "      <td>10319116</td>\n",
       "      <td>8752474</td>\n",
       "      <td>3700667</td>\n",
       "      <td>5051807</td>\n",
       "      <td>16598988</td>\n",
       "      <td>9794067</td>\n",
       "      <td>6804921</td>\n",
       "      <td>84.057520</td>\n",
       "      <td>65.944806</td>\n",
       "    </tr>\n",
       "    <tr>\n",
       "      <th>7</th>\n",
       "      <td>8</td>\n",
       "      <td>State - NCT OF DELHI</td>\n",
       "      <td>16787941</td>\n",
       "      <td>8987326</td>\n",
       "      <td>7911886</td>\n",
       "      <td>7800615</td>\n",
       "      <td>6863601</td>\n",
       "      <td>4050174</td>\n",
       "      <td>1792470</td>\n",
       "      <td>2257704</td>\n",
       "      <td>12737767</td>\n",
       "      <td>7194856</td>\n",
       "      <td>5542911</td>\n",
       "      <td>90.937306</td>\n",
       "      <td>80.758060</td>\n",
       "    </tr>\n",
       "    <tr>\n",
       "      <th>8</th>\n",
       "      <td>9</td>\n",
       "      <td>State - RAJASTHAN</td>\n",
       "      <td>68548437</td>\n",
       "      <td>35550997</td>\n",
       "      <td>29911821</td>\n",
       "      <td>32997440</td>\n",
       "      <td>27987112</td>\n",
       "      <td>30273155</td>\n",
       "      <td>11862585</td>\n",
       "      <td>18410570</td>\n",
       "      <td>38275282</td>\n",
       "      <td>23688412</td>\n",
       "      <td>14586870</td>\n",
       "      <td>79.194149</td>\n",
       "      <td>52.119954</td>\n",
       "    </tr>\n",
       "    <tr>\n",
       "      <th>9</th>\n",
       "      <td>10</td>\n",
       "      <td>State - UTTAR PRADESH</td>\n",
       "      <td>199812341</td>\n",
       "      <td>104480510</td>\n",
       "      <td>88294929</td>\n",
       "      <td>95331831</td>\n",
       "      <td>80726081</td>\n",
       "      <td>85414786</td>\n",
       "      <td>36245546</td>\n",
       "      <td>49169240</td>\n",
       "      <td>114397555</td>\n",
       "      <td>68234964</td>\n",
       "      <td>46162591</td>\n",
       "      <td>77.280728</td>\n",
       "      <td>57.184234</td>\n",
       "    </tr>\n",
       "    <tr>\n",
       "      <th>10</th>\n",
       "      <td>11</td>\n",
       "      <td>State - BIHAR</td>\n",
       "      <td>104099452</td>\n",
       "      <td>54278157</td>\n",
       "      <td>44390918</td>\n",
       "      <td>49821295</td>\n",
       "      <td>40574570</td>\n",
       "      <td>51594899</td>\n",
       "      <td>22670134</td>\n",
       "      <td>28924765</td>\n",
       "      <td>52504553</td>\n",
       "      <td>31608023</td>\n",
       "      <td>20896530</td>\n",
       "      <td>71.203806</td>\n",
       "      <td>51.501544</td>\n",
       "    </tr>\n",
       "    <tr>\n",
       "      <th>11</th>\n",
       "      <td>12</td>\n",
       "      <td>State - SIKKIM</td>\n",
       "      <td>610577</td>\n",
       "      <td>323070</td>\n",
       "      <td>290309</td>\n",
       "      <td>287507</td>\n",
       "      <td>256157</td>\n",
       "      <td>165625</td>\n",
       "      <td>71801</td>\n",
       "      <td>93824</td>\n",
       "      <td>444952</td>\n",
       "      <td>251269</td>\n",
       "      <td>193683</td>\n",
       "      <td>86.552260</td>\n",
       "      <td>75.611051</td>\n",
       "    </tr>\n",
       "    <tr>\n",
       "      <th>12</th>\n",
       "      <td>13</td>\n",
       "      <td>State - ARUNACHAL PRADESH</td>\n",
       "      <td>1383727</td>\n",
       "      <td>713912</td>\n",
       "      <td>606288</td>\n",
       "      <td>669815</td>\n",
       "      <td>565251</td>\n",
       "      <td>617722</td>\n",
       "      <td>274044</td>\n",
       "      <td>343678</td>\n",
       "      <td>766005</td>\n",
       "      <td>439868</td>\n",
       "      <td>326137</td>\n",
       "      <td>72.550999</td>\n",
       "      <td>57.697731</td>\n",
       "    </tr>\n",
       "    <tr>\n",
       "      <th>13</th>\n",
       "      <td>14</td>\n",
       "      <td>State - NAGALAND</td>\n",
       "      <td>1978502</td>\n",
       "      <td>1024649</td>\n",
       "      <td>874864</td>\n",
       "      <td>953853</td>\n",
       "      <td>812567</td>\n",
       "      <td>636068</td>\n",
       "      <td>300692</td>\n",
       "      <td>335376</td>\n",
       "      <td>1342434</td>\n",
       "      <td>723957</td>\n",
       "      <td>618477</td>\n",
       "      <td>82.750805</td>\n",
       "      <td>76.113970</td>\n",
       "    </tr>\n",
       "    <tr>\n",
       "      <th>14</th>\n",
       "      <td>15</td>\n",
       "      <td>State - MANIPUR</td>\n",
       "      <td>2855794</td>\n",
       "      <td>1438586</td>\n",
       "      <td>1244102</td>\n",
       "      <td>1417208</td>\n",
       "      <td>1236335</td>\n",
       "      <td>947318</td>\n",
       "      <td>398728</td>\n",
       "      <td>548590</td>\n",
       "      <td>1908476</td>\n",
       "      <td>1039858</td>\n",
       "      <td>868618</td>\n",
       "      <td>83.583018</td>\n",
       "      <td>70.257495</td>\n",
       "    </tr>\n",
       "    <tr>\n",
       "      <th>15</th>\n",
       "      <td>16</td>\n",
       "      <td>State - MIZORAM</td>\n",
       "      <td>1097206</td>\n",
       "      <td>555339</td>\n",
       "      <td>469778</td>\n",
       "      <td>541867</td>\n",
       "      <td>458897</td>\n",
       "      <td>249031</td>\n",
       "      <td>116810</td>\n",
       "      <td>132221</td>\n",
       "      <td>848175</td>\n",
       "      <td>438529</td>\n",
       "      <td>409646</td>\n",
       "      <td>93.348135</td>\n",
       "      <td>89.267526</td>\n",
       "    </tr>\n",
       "    <tr>\n",
       "      <th>16</th>\n",
       "      <td>17</td>\n",
       "      <td>State - TRIPURA</td>\n",
       "      <td>3673917</td>\n",
       "      <td>1874376</td>\n",
       "      <td>1640368</td>\n",
       "      <td>1799541</td>\n",
       "      <td>1575535</td>\n",
       "      <td>869134</td>\n",
       "      <td>373007</td>\n",
       "      <td>496127</td>\n",
       "      <td>2804783</td>\n",
       "      <td>1501369</td>\n",
       "      <td>1303414</td>\n",
       "      <td>91.526353</td>\n",
       "      <td>82.728343</td>\n",
       "    </tr>\n",
       "    <tr>\n",
       "      <th>17</th>\n",
       "      <td>18</td>\n",
       "      <td>State - MEGHALAYA</td>\n",
       "      <td>2966889</td>\n",
       "      <td>1491832</td>\n",
       "      <td>1203186</td>\n",
       "      <td>1475057</td>\n",
       "      <td>1195167</td>\n",
       "      <td>1181884</td>\n",
       "      <td>577953</td>\n",
       "      <td>603931</td>\n",
       "      <td>1785005</td>\n",
       "      <td>913879</td>\n",
       "      <td>871126</td>\n",
       "      <td>75.954923</td>\n",
       "      <td>72.887387</td>\n",
       "    </tr>\n",
       "    <tr>\n",
       "      <th>18</th>\n",
       "      <td>19</td>\n",
       "      <td>State - ASSAM</td>\n",
       "      <td>31205576</td>\n",
       "      <td>15939443</td>\n",
       "      <td>13575958</td>\n",
       "      <td>15266133</td>\n",
       "      <td>12991488</td>\n",
       "      <td>12027599</td>\n",
       "      <td>5370804</td>\n",
       "      <td>6656795</td>\n",
       "      <td>19177977</td>\n",
       "      <td>10568639</td>\n",
       "      <td>8609338</td>\n",
       "      <td>77.848200</td>\n",
       "      <td>66.269068</td>\n",
       "    </tr>\n",
       "    <tr>\n",
       "      <th>19</th>\n",
       "      <td>20</td>\n",
       "      <td>State - WEST BENGAL</td>\n",
       "      <td>91276115</td>\n",
       "      <td>46809027</td>\n",
       "      <td>41398631</td>\n",
       "      <td>44467088</td>\n",
       "      <td>39296018</td>\n",
       "      <td>29737834</td>\n",
       "      <td>12990217</td>\n",
       "      <td>16747617</td>\n",
       "      <td>61538281</td>\n",
       "      <td>33818810</td>\n",
       "      <td>27719471</td>\n",
       "      <td>81.690648</td>\n",
       "      <td>70.540152</td>\n",
       "    </tr>\n",
       "    <tr>\n",
       "      <th>20</th>\n",
       "      <td>21</td>\n",
       "      <td>State - JHARKHAND</td>\n",
       "      <td>32988134</td>\n",
       "      <td>16930315</td>\n",
       "      <td>14163168</td>\n",
       "      <td>16057819</td>\n",
       "      <td>13435471</td>\n",
       "      <td>14660065</td>\n",
       "      <td>6047796</td>\n",
       "      <td>8612269</td>\n",
       "      <td>18328069</td>\n",
       "      <td>10882519</td>\n",
       "      <td>7445550</td>\n",
       "      <td>76.836757</td>\n",
       "      <td>55.417112</td>\n",
       "    </tr>\n",
       "    <tr>\n",
       "      <th>21</th>\n",
       "      <td>22</td>\n",
       "      <td>State - ODISHA</td>\n",
       "      <td>41974218</td>\n",
       "      <td>21212136</td>\n",
       "      <td>18495639</td>\n",
       "      <td>20762082</td>\n",
       "      <td>18205385</td>\n",
       "      <td>15231623</td>\n",
       "      <td>6122455</td>\n",
       "      <td>9109168</td>\n",
       "      <td>26742595</td>\n",
       "      <td>15089681</td>\n",
       "      <td>11652914</td>\n",
       "      <td>81.585075</td>\n",
       "      <td>64.008061</td>\n",
       "    </tr>\n",
       "    <tr>\n",
       "      <th>22</th>\n",
       "      <td>23</td>\n",
       "      <td>State - CHHATTISGARH</td>\n",
       "      <td>25545198</td>\n",
       "      <td>12832895</td>\n",
       "      <td>10972960</td>\n",
       "      <td>12712303</td>\n",
       "      <td>10910549</td>\n",
       "      <td>10165276</td>\n",
       "      <td>4025002</td>\n",
       "      <td>6140274</td>\n",
       "      <td>15379922</td>\n",
       "      <td>8807893</td>\n",
       "      <td>6572029</td>\n",
       "      <td>80.269071</td>\n",
       "      <td>60.235548</td>\n",
       "    </tr>\n",
       "    <tr>\n",
       "      <th>23</th>\n",
       "      <td>24</td>\n",
       "      <td>State - MADHYA PRADESH</td>\n",
       "      <td>72626809</td>\n",
       "      <td>37612306</td>\n",
       "      <td>31976134</td>\n",
       "      <td>35014503</td>\n",
       "      <td>29841280</td>\n",
       "      <td>29775640</td>\n",
       "      <td>12437978</td>\n",
       "      <td>17337662</td>\n",
       "      <td>42851169</td>\n",
       "      <td>25174328</td>\n",
       "      <td>17676841</td>\n",
       "      <td>78.728492</td>\n",
       "      <td>59.236202</td>\n",
       "    </tr>\n",
       "    <tr>\n",
       "      <th>24</th>\n",
       "      <td>25</td>\n",
       "      <td>State - GUJARAT</td>\n",
       "      <td>60439692</td>\n",
       "      <td>31491260</td>\n",
       "      <td>27375876</td>\n",
       "      <td>28948432</td>\n",
       "      <td>25286554</td>\n",
       "      <td>19346334</td>\n",
       "      <td>8016387</td>\n",
       "      <td>11329947</td>\n",
       "      <td>41093358</td>\n",
       "      <td>23474873</td>\n",
       "      <td>17618485</td>\n",
       "      <td>85.750217</td>\n",
       "      <td>69.675310</td>\n",
       "    </tr>\n",
       "    <tr>\n",
       "      <th>25</th>\n",
       "      <td>26</td>\n",
       "      <td>State - DAMAN &amp; DIU</td>\n",
       "      <td>243247</td>\n",
       "      <td>150301</td>\n",
       "      <td>136157</td>\n",
       "      <td>92946</td>\n",
       "      <td>80156</td>\n",
       "      <td>54841</td>\n",
       "      <td>25658</td>\n",
       "      <td>29183</td>\n",
       "      <td>188406</td>\n",
       "      <td>124643</td>\n",
       "      <td>63763</td>\n",
       "      <td>91.543586</td>\n",
       "      <td>79.548630</td>\n",
       "    </tr>\n",
       "    <tr>\n",
       "      <th>26</th>\n",
       "      <td>27</td>\n",
       "      <td>State - DADRA &amp; NAGAR HAVELI</td>\n",
       "      <td>343709</td>\n",
       "      <td>193760</td>\n",
       "      <td>167329</td>\n",
       "      <td>149949</td>\n",
       "      <td>125485</td>\n",
       "      <td>120479</td>\n",
       "      <td>51239</td>\n",
       "      <td>69240</td>\n",
       "      <td>223230</td>\n",
       "      <td>142521</td>\n",
       "      <td>80709</td>\n",
       "      <td>85.174118</td>\n",
       "      <td>64.317648</td>\n",
       "    </tr>\n",
       "    <tr>\n",
       "      <th>27</th>\n",
       "      <td>28</td>\n",
       "      <td>State - MAHARASHTRA</td>\n",
       "      <td>112374333</td>\n",
       "      <td>58243056</td>\n",
       "      <td>51207665</td>\n",
       "      <td>54131277</td>\n",
       "      <td>47840151</td>\n",
       "      <td>30820043</td>\n",
       "      <td>12985472</td>\n",
       "      <td>17834571</td>\n",
       "      <td>81554290</td>\n",
       "      <td>45257584</td>\n",
       "      <td>36296706</td>\n",
       "      <td>88.380488</td>\n",
       "      <td>75.870801</td>\n",
       "    </tr>\n",
       "    <tr>\n",
       "      <th>28</th>\n",
       "      <td>29</td>\n",
       "      <td>State - ANDHRA PRADESH</td>\n",
       "      <td>84580777</td>\n",
       "      <td>42442146</td>\n",
       "      <td>37727196</td>\n",
       "      <td>42138631</td>\n",
       "      <td>37710779</td>\n",
       "      <td>34024017</td>\n",
       "      <td>14190903</td>\n",
       "      <td>19833114</td>\n",
       "      <td>50556760</td>\n",
       "      <td>28251243</td>\n",
       "      <td>22305517</td>\n",
       "      <td>74.882965</td>\n",
       "      <td>59.148916</td>\n",
       "    </tr>\n",
       "    <tr>\n",
       "      <th>29</th>\n",
       "      <td>30</td>\n",
       "      <td>State - KARNATAKA</td>\n",
       "      <td>61095297</td>\n",
       "      <td>30966657</td>\n",
       "      <td>27291366</td>\n",
       "      <td>30128640</td>\n",
       "      <td>26642898</td>\n",
       "      <td>20447975</td>\n",
       "      <td>8458186</td>\n",
       "      <td>11989789</td>\n",
       "      <td>40647322</td>\n",
       "      <td>22508471</td>\n",
       "      <td>18138851</td>\n",
       "      <td>82.474695</td>\n",
       "      <td>68.081374</td>\n",
       "    </tr>\n",
       "    <tr>\n",
       "      <th>30</th>\n",
       "      <td>31</td>\n",
       "      <td>State - GOA</td>\n",
       "      <td>1458545</td>\n",
       "      <td>739140</td>\n",
       "      <td>664680</td>\n",
       "      <td>719405</td>\n",
       "      <td>649254</td>\n",
       "      <td>293058</td>\n",
       "      <td>123317</td>\n",
       "      <td>169741</td>\n",
       "      <td>1165487</td>\n",
       "      <td>615823</td>\n",
       "      <td>549664</td>\n",
       "      <td>92.649546</td>\n",
       "      <td>84.660857</td>\n",
       "    </tr>\n",
       "    <tr>\n",
       "      <th>31</th>\n",
       "      <td>32</td>\n",
       "      <td>State - LAKSHADWEEP</td>\n",
       "      <td>64473</td>\n",
       "      <td>33123</td>\n",
       "      <td>29326</td>\n",
       "      <td>31350</td>\n",
       "      <td>27892</td>\n",
       "      <td>11920</td>\n",
       "      <td>5100</td>\n",
       "      <td>6820</td>\n",
       "      <td>52553</td>\n",
       "      <td>28023</td>\n",
       "      <td>24530</td>\n",
       "      <td>95.556844</td>\n",
       "      <td>87.946365</td>\n",
       "    </tr>\n",
       "    <tr>\n",
       "      <th>32</th>\n",
       "      <td>33</td>\n",
       "      <td>State - KERALA</td>\n",
       "      <td>33406061</td>\n",
       "      <td>16027412</td>\n",
       "      <td>14259168</td>\n",
       "      <td>17378649</td>\n",
       "      <td>15673938</td>\n",
       "      <td>5270237</td>\n",
       "      <td>2322509</td>\n",
       "      <td>2947728</td>\n",
       "      <td>28135824</td>\n",
       "      <td>13704903</td>\n",
       "      <td>14430921</td>\n",
       "      <td>96.112922</td>\n",
       "      <td>92.069530</td>\n",
       "    </tr>\n",
       "    <tr>\n",
       "      <th>33</th>\n",
       "      <td>34</td>\n",
       "      <td>State - TAMIL NADU</td>\n",
       "      <td>72147030</td>\n",
       "      <td>36137975</td>\n",
       "      <td>32317699</td>\n",
       "      <td>36009055</td>\n",
       "      <td>32405499</td>\n",
       "      <td>20309523</td>\n",
       "      <td>8097484</td>\n",
       "      <td>12212039</td>\n",
       "      <td>51837507</td>\n",
       "      <td>28040491</td>\n",
       "      <td>23797016</td>\n",
       "      <td>86.765122</td>\n",
       "      <td>73.435117</td>\n",
       "    </tr>\n",
       "    <tr>\n",
       "      <th>34</th>\n",
       "      <td>35</td>\n",
       "      <td>State - PUDUCHERRY</td>\n",
       "      <td>1247953</td>\n",
       "      <td>612511</td>\n",
       "      <td>544984</td>\n",
       "      <td>635442</td>\n",
       "      <td>570111</td>\n",
       "      <td>290644</td>\n",
       "      <td>115133</td>\n",
       "      <td>175511</td>\n",
       "      <td>957309</td>\n",
       "      <td>497378</td>\n",
       "      <td>459931</td>\n",
       "      <td>91.264698</td>\n",
       "      <td>80.673939</td>\n",
       "    </tr>\n",
       "    <tr>\n",
       "      <th>35</th>\n",
       "      <td>36</td>\n",
       "      <td>State - ANDAMAN &amp; NICOBAR ISLANDS</td>\n",
       "      <td>380581</td>\n",
       "      <td>202871</td>\n",
       "      <td>182101</td>\n",
       "      <td>177710</td>\n",
       "      <td>157602</td>\n",
       "      <td>86300</td>\n",
       "      <td>38494</td>\n",
       "      <td>47806</td>\n",
       "      <td>294281</td>\n",
       "      <td>164377</td>\n",
       "      <td>129904</td>\n",
       "      <td>90.266940</td>\n",
       "      <td>82.425350</td>\n",
       "    </tr>\n",
       "  </tbody>\n",
       "</table>\n",
       "</div>"
      ],
      "text/plain": [
       "    S.No.                          Area Name  Totak Population  \\\n",
       "0       1                              INDIA        1210854977   \n",
       "1       2            State - JAMMU & KASHMIR          12541302   \n",
       "2       3           State - HIMACHAL PRADESH           6864602   \n",
       "3       4                     State - PUNJAB          27743338   \n",
       "4       5                 State - CHANDIGARH           1055450   \n",
       "5       6                State - UTTARAKHAND          10086292   \n",
       "6       7                    State - HARYANA          25351462   \n",
       "7       8               State - NCT OF DELHI          16787941   \n",
       "8       9                  State - RAJASTHAN          68548437   \n",
       "9      10              State - UTTAR PRADESH         199812341   \n",
       "10     11                      State - BIHAR         104099452   \n",
       "11     12                     State - SIKKIM            610577   \n",
       "12     13          State - ARUNACHAL PRADESH           1383727   \n",
       "13     14                   State - NAGALAND           1978502   \n",
       "14     15                    State - MANIPUR           2855794   \n",
       "15     16                    State - MIZORAM           1097206   \n",
       "16     17                    State - TRIPURA           3673917   \n",
       "17     18                  State - MEGHALAYA           2966889   \n",
       "18     19                      State - ASSAM          31205576   \n",
       "19     20                State - WEST BENGAL          91276115   \n",
       "20     21                  State - JHARKHAND          32988134   \n",
       "21     22                     State - ODISHA          41974218   \n",
       "22     23               State - CHHATTISGARH          25545198   \n",
       "23     24             State - MADHYA PRADESH          72626809   \n",
       "24     25                    State - GUJARAT          60439692   \n",
       "25     26                State - DAMAN & DIU            243247   \n",
       "26     27       State - DADRA & NAGAR HAVELI            343709   \n",
       "27     28                State - MAHARASHTRA         112374333   \n",
       "28     29             State - ANDHRA PRADESH          84580777   \n",
       "29     30                  State - KARNATAKA          61095297   \n",
       "30     31                        State - GOA           1458545   \n",
       "31     32                State - LAKSHADWEEP             64473   \n",
       "32     33                     State - KERALA          33406061   \n",
       "33     34                 State - TAMIL NADU          72147030   \n",
       "34     35                 State - PUDUCHERRY           1247953   \n",
       "35     36  State - ANDAMAN & NICOBAR ISLANDS            380581   \n",
       "\n",
       "    Total Male Population  Male Population Age 7 and above  \\\n",
       "0               623270258                        537518004   \n",
       "1                 6640662                          5556307   \n",
       "2                 3481873                          3074414   \n",
       "3                14639465                         12973471   \n",
       "4                  580663                           517127   \n",
       "5                 5137773                          4420574   \n",
       "6                13494734                         11651625   \n",
       "7                 8987326                          7911886   \n",
       "8                35550997                         29911821   \n",
       "9               104480510                         88294929   \n",
       "10               54278157                         44390918   \n",
       "11                 323070                           290309   \n",
       "12                 713912                           606288   \n",
       "13                1024649                           874864   \n",
       "14                1438586                          1244102   \n",
       "15                 555339                           469778   \n",
       "16                1874376                          1640368   \n",
       "17                1491832                          1203186   \n",
       "18               15939443                         13575958   \n",
       "19               46809027                         41398631   \n",
       "20               16930315                         14163168   \n",
       "21               21212136                         18495639   \n",
       "22               12832895                         10972960   \n",
       "23               37612306                         31976134   \n",
       "24               31491260                         27375876   \n",
       "25                 150301                           136157   \n",
       "26                 193760                           167329   \n",
       "27               58243056                         51207665   \n",
       "28               42442146                         37727196   \n",
       "29               30966657                         27291366   \n",
       "30                 739140                           664680   \n",
       "31                  33123                            29326   \n",
       "32               16027412                         14259168   \n",
       "33               36137975                         32317699   \n",
       "34                 612511                           544984   \n",
       "35                 202871                           182101   \n",
       "\n",
       "    Total Female Population  Female Population Age 7 and above  \\\n",
       "0                 587584719                          508821720   \n",
       "1                   5900640                            4966090   \n",
       "2                   3382729                            3012290   \n",
       "3                  13103873                           11693648   \n",
       "4                    474787                             418889   \n",
       "5                   4948519                            4309904   \n",
       "6                  11856728                           10319116   \n",
       "7                   7800615                            6863601   \n",
       "8                  32997440                           27987112   \n",
       "9                  95331831                           80726081   \n",
       "10                 49821295                           40574570   \n",
       "11                   287507                             256157   \n",
       "12                   669815                             565251   \n",
       "13                   953853                             812567   \n",
       "14                  1417208                            1236335   \n",
       "15                   541867                             458897   \n",
       "16                  1799541                            1575535   \n",
       "17                  1475057                            1195167   \n",
       "18                 15266133                           12991488   \n",
       "19                 44467088                           39296018   \n",
       "20                 16057819                           13435471   \n",
       "21                 20762082                           18205385   \n",
       "22                 12712303                           10910549   \n",
       "23                 35014503                           29841280   \n",
       "24                 28948432                           25286554   \n",
       "25                    92946                              80156   \n",
       "26                   149949                             125485   \n",
       "27                 54131277                           47840151   \n",
       "28                 42138631                           37710779   \n",
       "29                 30128640                           26642898   \n",
       "30                   719405                             649254   \n",
       "31                    31350                              27892   \n",
       "32                 17378649                           15673938   \n",
       "33                 36009055                           32405499   \n",
       "34                   635442                             570111   \n",
       "35                   177710                             157602   \n",
       "\n",
       "    Total Illiterates  Male Illiterates  Female Illiterates  Total Literates  \\\n",
       "0           447216165         188506636           258709529        763638812   \n",
       "1             5474069           2375991             3098078          7067233   \n",
       "2             1824866            729283             1095583          5039736   \n",
       "3             9036201           4203409             4832792         18707137   \n",
       "4              250012            115317              134695           805438   \n",
       "5             3205339           1274065             1931274          6880953   \n",
       "6             8752474           3700667             5051807         16598988   \n",
       "7             4050174           1792470             2257704         12737767   \n",
       "8            30273155          11862585            18410570         38275282   \n",
       "9            85414786          36245546            49169240        114397555   \n",
       "10           51594899          22670134            28924765         52504553   \n",
       "11             165625             71801               93824           444952   \n",
       "12             617722            274044              343678           766005   \n",
       "13             636068            300692              335376          1342434   \n",
       "14             947318            398728              548590          1908476   \n",
       "15             249031            116810              132221           848175   \n",
       "16             869134            373007              496127          2804783   \n",
       "17            1181884            577953              603931          1785005   \n",
       "18           12027599           5370804             6656795         19177977   \n",
       "19           29737834          12990217            16747617         61538281   \n",
       "20           14660065           6047796             8612269         18328069   \n",
       "21           15231623           6122455             9109168         26742595   \n",
       "22           10165276           4025002             6140274         15379922   \n",
       "23           29775640          12437978            17337662         42851169   \n",
       "24           19346334           8016387            11329947         41093358   \n",
       "25              54841             25658               29183           188406   \n",
       "26             120479             51239               69240           223230   \n",
       "27           30820043          12985472            17834571         81554290   \n",
       "28           34024017          14190903            19833114         50556760   \n",
       "29           20447975           8458186            11989789         40647322   \n",
       "30             293058            123317              169741          1165487   \n",
       "31              11920              5100                6820            52553   \n",
       "32            5270237           2322509             2947728         28135824   \n",
       "33           20309523           8097484            12212039         51837507   \n",
       "34             290644            115133              175511           957309   \n",
       "35              86300             38494               47806           294281   \n",
       "\n",
       "    Male Literates  Female Literates  Male Literacy Rate  Female Literacy Rate  \n",
       "0        434763622         328875190           80.883546             64.634660  \n",
       "1          4264671           2802562           76.753696             56.433975  \n",
       "2          2752590           2287146           89.532184             75.927152  \n",
       "3         10436056           8271081           80.441510             70.731401  \n",
       "4           465346            340092           89.986792             81.189050  \n",
       "5          3863708           3017245           87.402858             70.007244  \n",
       "6          9794067           6804921           84.057520             65.944806  \n",
       "7          7194856           5542911           90.937306             80.758060  \n",
       "8         23688412          14586870           79.194149             52.119954  \n",
       "9         68234964          46162591           77.280728             57.184234  \n",
       "10        31608023          20896530           71.203806             51.501544  \n",
       "11          251269            193683           86.552260             75.611051  \n",
       "12          439868            326137           72.550999             57.697731  \n",
       "13          723957            618477           82.750805             76.113970  \n",
       "14         1039858            868618           83.583018             70.257495  \n",
       "15          438529            409646           93.348135             89.267526  \n",
       "16         1501369           1303414           91.526353             82.728343  \n",
       "17          913879            871126           75.954923             72.887387  \n",
       "18        10568639           8609338           77.848200             66.269068  \n",
       "19        33818810          27719471           81.690648             70.540152  \n",
       "20        10882519           7445550           76.836757             55.417112  \n",
       "21        15089681          11652914           81.585075             64.008061  \n",
       "22         8807893           6572029           80.269071             60.235548  \n",
       "23        25174328          17676841           78.728492             59.236202  \n",
       "24        23474873          17618485           85.750217             69.675310  \n",
       "25          124643             63763           91.543586             79.548630  \n",
       "26          142521             80709           85.174118             64.317648  \n",
       "27        45257584          36296706           88.380488             75.870801  \n",
       "28        28251243          22305517           74.882965             59.148916  \n",
       "29        22508471          18138851           82.474695             68.081374  \n",
       "30          615823            549664           92.649546             84.660857  \n",
       "31           28023             24530           95.556844             87.946365  \n",
       "32        13704903          14430921           96.112922             92.069530  \n",
       "33        28040491          23797016           86.765122             73.435117  \n",
       "34          497378            459931           91.264698             80.673939  \n",
       "35          164377            129904           90.266940             82.425350  "
      ]
     },
     "execution_count": 3,
     "metadata": {},
     "output_type": "execute_result"
    }
   ],
   "source": [
    "df=pd.read_excel(r\"C:\\Users\\stuti\\OneDrive\\Desktop\\temp_1\\2011 Gender Literacy Rate.xlsx\" , engine=\"openpyxl\")\n",
    "df"
   ]
  },
  {
   "cell_type": "code",
   "execution_count": 4,
   "id": "17e88cd0-d5fb-4b60-ab03-1af4f977fe0d",
   "metadata": {},
   "outputs": [
    {
     "data": {
      "text/plain": [
       "Index(['S.No.', 'Area Name', 'Totak Population', 'Total Male Population',\n",
       "       'Male Population Age 7 and above', 'Total Female Population',\n",
       "       'Female Population Age 7 and above', 'Total Illiterates',\n",
       "       'Male Illiterates', 'Female Illiterates', 'Total Literates',\n",
       "       'Male Literates', 'Female Literates', 'Male Literacy Rate',\n",
       "       'Female Literacy Rate'],\n",
       "      dtype='object')"
      ]
     },
     "execution_count": 4,
     "metadata": {},
     "output_type": "execute_result"
    }
   ],
   "source": [
    "df.columns"
   ]
  },
  {
   "cell_type": "code",
   "execution_count": 8,
   "id": "82a44188-4344-409a-adbf-35d6745cf7f1",
   "metadata": {},
   "outputs": [],
   "source": [
    "#Extract Relevant data\n",
    "states=df[\"Area Name\"]\n",
    "male_lit_rate=df[\"Male Literacy Rate\"]\n",
    "female_lit_rate=df[\"Female Literacy Rate\"]"
   ]
  },
  {
   "cell_type": "code",
   "execution_count": 10,
   "id": "88d99d42-ad1c-4dee-af62-7cb6b1f13495",
   "metadata": {},
   "outputs": [
    {
     "data": {
      "application/vnd.plotly.v1+json": {
       "config": {
        "plotlyServerURL": "https://plot.ly"
       },
       "data": [
        {
         "marker": {
          "color": "blue"
         },
         "name": "Male Literacy Rate",
         "type": "bar",
         "x": [
          "INDIA",
          "State - JAMMU & KASHMIR",
          "State - HIMACHAL PRADESH",
          "State - PUNJAB",
          "State - CHANDIGARH",
          "State - UTTARAKHAND",
          "State - HARYANA",
          "State - NCT OF DELHI",
          "State - RAJASTHAN",
          "State - UTTAR PRADESH",
          "State - BIHAR",
          "State - SIKKIM",
          "State - ARUNACHAL PRADESH",
          "State - NAGALAND",
          "State - MANIPUR",
          "State - MIZORAM",
          "State - TRIPURA",
          "State - MEGHALAYA",
          "State - ASSAM",
          "State - WEST BENGAL",
          "State - JHARKHAND",
          "State - ODISHA",
          "State - CHHATTISGARH",
          "State - MADHYA PRADESH",
          "State - GUJARAT",
          "State - DAMAN & DIU",
          "State - DADRA & NAGAR HAVELI",
          "State - MAHARASHTRA",
          "State - ANDHRA PRADESH",
          "State - KARNATAKA",
          "State - GOA",
          "State - LAKSHADWEEP",
          "State - KERALA",
          "State - TAMIL NADU",
          "State - PUDUCHERRY",
          "State - ANDAMAN & NICOBAR ISLANDS"
         ],
         "y": [
          80.88354599560539,
          76.75369629503913,
          89.53218401945867,
          80.44151021727339,
          89.98679241269552,
          87.40285763794475,
          84.05751987383734,
          90.9373062250897,
          79.19414869459135,
          77.28072809254991,
          71.2038056973726,
          86.55225983348777,
          72.55099886522576,
          82.7508046965014,
          83.58301811266278,
          93.34813465083508,
          91.52635262331378,
          75.95492301273453,
          77.84820047321891,
          81.69064817626457,
          76.83675714359951,
          81.58507527098685,
          80.26907051515725,
          78.72849169321094,
          85.75021672365844,
          91.54358571355127,
          85.17411805485003,
          88.38048756958553,
          74.88296506318677,
          82.47469547695047,
          92.64954564602516,
          95.55684375639363,
          96.11292187594675,
          86.76512210847685,
          91.26469767919792,
          90.26693977517971
         ]
        },
        {
         "marker": {
          "color": "pink"
         },
         "name": "Female Literacy Rate",
         "type": "bar",
         "x": [
          "INDIA",
          "State - JAMMU & KASHMIR",
          "State - HIMACHAL PRADESH",
          "State - PUNJAB",
          "State - CHANDIGARH",
          "State - UTTARAKHAND",
          "State - HARYANA",
          "State - NCT OF DELHI",
          "State - RAJASTHAN",
          "State - UTTAR PRADESH",
          "State - BIHAR",
          "State - SIKKIM",
          "State - ARUNACHAL PRADESH",
          "State - NAGALAND",
          "State - MANIPUR",
          "State - MIZORAM",
          "State - TRIPURA",
          "State - MEGHALAYA",
          "State - ASSAM",
          "State - WEST BENGAL",
          "State - JHARKHAND",
          "State - ODISHA",
          "State - CHHATTISGARH",
          "State - MADHYA PRADESH",
          "State - GUJARAT",
          "State - DAMAN & DIU",
          "State - DADRA & NAGAR HAVELI",
          "State - MAHARASHTRA",
          "State - ANDHRA PRADESH",
          "State - KARNATAKA",
          "State - GOA",
          "State - LAKSHADWEEP",
          "State - KERALA",
          "State - TAMIL NADU",
          "State - PUDUCHERRY",
          "State - ANDAMAN & NICOBAR ISLANDS"
         ],
         "y": [
          64.63466024995945,
          56.433975219941644,
          75.92715176825604,
          70.73140050051104,
          81.18905008248008,
          70.00724378083595,
          65.94480573723564,
          80.7580597998048,
          52.11995435613363,
          57.18423392806595,
          51.50154394735422,
          75.61105103510738,
          57.69773074262584,
          76.11396967880802,
          70.25749493462531,
          89.26752626406362,
          82.72834307076644,
          72.88738728562619,
          66.26906786966974,
          70.54015243987317,
          55.41711191219124,
          64.00806135107827,
          60.23554818368901,
          59.23620233448431,
          69.67531044364527,
          79.54863017116622,
          64.31764752759294,
          75.87080149475281,
          59.148916016823726,
          68.0813738805741,
          84.66085692194426,
          87.94636454897461,
          92.069529686796,
          73.43511667572223,
          80.67393893469868,
          82.42534993210747
         ]
        }
       ],
       "layout": {
        "autosize": true,
        "barmode": "group",
        "template": {
         "data": {
          "bar": [
           {
            "error_x": {
             "color": "#2a3f5f"
            },
            "error_y": {
             "color": "#2a3f5f"
            },
            "marker": {
             "line": {
              "color": "white",
              "width": 0.5
             },
             "pattern": {
              "fillmode": "overlay",
              "size": 10,
              "solidity": 0.2
             }
            },
            "type": "bar"
           }
          ],
          "barpolar": [
           {
            "marker": {
             "line": {
              "color": "white",
              "width": 0.5
             },
             "pattern": {
              "fillmode": "overlay",
              "size": 10,
              "solidity": 0.2
             }
            },
            "type": "barpolar"
           }
          ],
          "carpet": [
           {
            "aaxis": {
             "endlinecolor": "#2a3f5f",
             "gridcolor": "#C8D4E3",
             "linecolor": "#C8D4E3",
             "minorgridcolor": "#C8D4E3",
             "startlinecolor": "#2a3f5f"
            },
            "baxis": {
             "endlinecolor": "#2a3f5f",
             "gridcolor": "#C8D4E3",
             "linecolor": "#C8D4E3",
             "minorgridcolor": "#C8D4E3",
             "startlinecolor": "#2a3f5f"
            },
            "type": "carpet"
           }
          ],
          "choropleth": [
           {
            "colorbar": {
             "outlinewidth": 0,
             "ticks": ""
            },
            "type": "choropleth"
           }
          ],
          "contour": [
           {
            "colorbar": {
             "outlinewidth": 0,
             "ticks": ""
            },
            "colorscale": [
             [
              0,
              "#0d0887"
             ],
             [
              0.1111111111111111,
              "#46039f"
             ],
             [
              0.2222222222222222,
              "#7201a8"
             ],
             [
              0.3333333333333333,
              "#9c179e"
             ],
             [
              0.4444444444444444,
              "#bd3786"
             ],
             [
              0.5555555555555556,
              "#d8576b"
             ],
             [
              0.6666666666666666,
              "#ed7953"
             ],
             [
              0.7777777777777778,
              "#fb9f3a"
             ],
             [
              0.8888888888888888,
              "#fdca26"
             ],
             [
              1,
              "#f0f921"
             ]
            ],
            "type": "contour"
           }
          ],
          "contourcarpet": [
           {
            "colorbar": {
             "outlinewidth": 0,
             "ticks": ""
            },
            "type": "contourcarpet"
           }
          ],
          "heatmap": [
           {
            "colorbar": {
             "outlinewidth": 0,
             "ticks": ""
            },
            "colorscale": [
             [
              0,
              "#0d0887"
             ],
             [
              0.1111111111111111,
              "#46039f"
             ],
             [
              0.2222222222222222,
              "#7201a8"
             ],
             [
              0.3333333333333333,
              "#9c179e"
             ],
             [
              0.4444444444444444,
              "#bd3786"
             ],
             [
              0.5555555555555556,
              "#d8576b"
             ],
             [
              0.6666666666666666,
              "#ed7953"
             ],
             [
              0.7777777777777778,
              "#fb9f3a"
             ],
             [
              0.8888888888888888,
              "#fdca26"
             ],
             [
              1,
              "#f0f921"
             ]
            ],
            "type": "heatmap"
           }
          ],
          "heatmapgl": [
           {
            "colorbar": {
             "outlinewidth": 0,
             "ticks": ""
            },
            "colorscale": [
             [
              0,
              "#0d0887"
             ],
             [
              0.1111111111111111,
              "#46039f"
             ],
             [
              0.2222222222222222,
              "#7201a8"
             ],
             [
              0.3333333333333333,
              "#9c179e"
             ],
             [
              0.4444444444444444,
              "#bd3786"
             ],
             [
              0.5555555555555556,
              "#d8576b"
             ],
             [
              0.6666666666666666,
              "#ed7953"
             ],
             [
              0.7777777777777778,
              "#fb9f3a"
             ],
             [
              0.8888888888888888,
              "#fdca26"
             ],
             [
              1,
              "#f0f921"
             ]
            ],
            "type": "heatmapgl"
           }
          ],
          "histogram": [
           {
            "marker": {
             "pattern": {
              "fillmode": "overlay",
              "size": 10,
              "solidity": 0.2
             }
            },
            "type": "histogram"
           }
          ],
          "histogram2d": [
           {
            "colorbar": {
             "outlinewidth": 0,
             "ticks": ""
            },
            "colorscale": [
             [
              0,
              "#0d0887"
             ],
             [
              0.1111111111111111,
              "#46039f"
             ],
             [
              0.2222222222222222,
              "#7201a8"
             ],
             [
              0.3333333333333333,
              "#9c179e"
             ],
             [
              0.4444444444444444,
              "#bd3786"
             ],
             [
              0.5555555555555556,
              "#d8576b"
             ],
             [
              0.6666666666666666,
              "#ed7953"
             ],
             [
              0.7777777777777778,
              "#fb9f3a"
             ],
             [
              0.8888888888888888,
              "#fdca26"
             ],
             [
              1,
              "#f0f921"
             ]
            ],
            "type": "histogram2d"
           }
          ],
          "histogram2dcontour": [
           {
            "colorbar": {
             "outlinewidth": 0,
             "ticks": ""
            },
            "colorscale": [
             [
              0,
              "#0d0887"
             ],
             [
              0.1111111111111111,
              "#46039f"
             ],
             [
              0.2222222222222222,
              "#7201a8"
             ],
             [
              0.3333333333333333,
              "#9c179e"
             ],
             [
              0.4444444444444444,
              "#bd3786"
             ],
             [
              0.5555555555555556,
              "#d8576b"
             ],
             [
              0.6666666666666666,
              "#ed7953"
             ],
             [
              0.7777777777777778,
              "#fb9f3a"
             ],
             [
              0.8888888888888888,
              "#fdca26"
             ],
             [
              1,
              "#f0f921"
             ]
            ],
            "type": "histogram2dcontour"
           }
          ],
          "mesh3d": [
           {
            "colorbar": {
             "outlinewidth": 0,
             "ticks": ""
            },
            "type": "mesh3d"
           }
          ],
          "parcoords": [
           {
            "line": {
             "colorbar": {
              "outlinewidth": 0,
              "ticks": ""
             }
            },
            "type": "parcoords"
           }
          ],
          "pie": [
           {
            "automargin": true,
            "type": "pie"
           }
          ],
          "scatter": [
           {
            "fillpattern": {
             "fillmode": "overlay",
             "size": 10,
             "solidity": 0.2
            },
            "type": "scatter"
           }
          ],
          "scatter3d": [
           {
            "line": {
             "colorbar": {
              "outlinewidth": 0,
              "ticks": ""
             }
            },
            "marker": {
             "colorbar": {
              "outlinewidth": 0,
              "ticks": ""
             }
            },
            "type": "scatter3d"
           }
          ],
          "scattercarpet": [
           {
            "marker": {
             "colorbar": {
              "outlinewidth": 0,
              "ticks": ""
             }
            },
            "type": "scattercarpet"
           }
          ],
          "scattergeo": [
           {
            "marker": {
             "colorbar": {
              "outlinewidth": 0,
              "ticks": ""
             }
            },
            "type": "scattergeo"
           }
          ],
          "scattergl": [
           {
            "marker": {
             "colorbar": {
              "outlinewidth": 0,
              "ticks": ""
             }
            },
            "type": "scattergl"
           }
          ],
          "scattermapbox": [
           {
            "marker": {
             "colorbar": {
              "outlinewidth": 0,
              "ticks": ""
             }
            },
            "type": "scattermapbox"
           }
          ],
          "scatterpolar": [
           {
            "marker": {
             "colorbar": {
              "outlinewidth": 0,
              "ticks": ""
             }
            },
            "type": "scatterpolar"
           }
          ],
          "scatterpolargl": [
           {
            "marker": {
             "colorbar": {
              "outlinewidth": 0,
              "ticks": ""
             }
            },
            "type": "scatterpolargl"
           }
          ],
          "scatterternary": [
           {
            "marker": {
             "colorbar": {
              "outlinewidth": 0,
              "ticks": ""
             }
            },
            "type": "scatterternary"
           }
          ],
          "surface": [
           {
            "colorbar": {
             "outlinewidth": 0,
             "ticks": ""
            },
            "colorscale": [
             [
              0,
              "#0d0887"
             ],
             [
              0.1111111111111111,
              "#46039f"
             ],
             [
              0.2222222222222222,
              "#7201a8"
             ],
             [
              0.3333333333333333,
              "#9c179e"
             ],
             [
              0.4444444444444444,
              "#bd3786"
             ],
             [
              0.5555555555555556,
              "#d8576b"
             ],
             [
              0.6666666666666666,
              "#ed7953"
             ],
             [
              0.7777777777777778,
              "#fb9f3a"
             ],
             [
              0.8888888888888888,
              "#fdca26"
             ],
             [
              1,
              "#f0f921"
             ]
            ],
            "type": "surface"
           }
          ],
          "table": [
           {
            "cells": {
             "fill": {
              "color": "#EBF0F8"
             },
             "line": {
              "color": "white"
             }
            },
            "header": {
             "fill": {
              "color": "#C8D4E3"
             },
             "line": {
              "color": "white"
             }
            },
            "type": "table"
           }
          ]
         },
         "layout": {
          "annotationdefaults": {
           "arrowcolor": "#2a3f5f",
           "arrowhead": 0,
           "arrowwidth": 1
          },
          "autotypenumbers": "strict",
          "coloraxis": {
           "colorbar": {
            "outlinewidth": 0,
            "ticks": ""
           }
          },
          "colorscale": {
           "diverging": [
            [
             0,
             "#8e0152"
            ],
            [
             0.1,
             "#c51b7d"
            ],
            [
             0.2,
             "#de77ae"
            ],
            [
             0.3,
             "#f1b6da"
            ],
            [
             0.4,
             "#fde0ef"
            ],
            [
             0.5,
             "#f7f7f7"
            ],
            [
             0.6,
             "#e6f5d0"
            ],
            [
             0.7,
             "#b8e186"
            ],
            [
             0.8,
             "#7fbc41"
            ],
            [
             0.9,
             "#4d9221"
            ],
            [
             1,
             "#276419"
            ]
           ],
           "sequential": [
            [
             0,
             "#0d0887"
            ],
            [
             0.1111111111111111,
             "#46039f"
            ],
            [
             0.2222222222222222,
             "#7201a8"
            ],
            [
             0.3333333333333333,
             "#9c179e"
            ],
            [
             0.4444444444444444,
             "#bd3786"
            ],
            [
             0.5555555555555556,
             "#d8576b"
            ],
            [
             0.6666666666666666,
             "#ed7953"
            ],
            [
             0.7777777777777778,
             "#fb9f3a"
            ],
            [
             0.8888888888888888,
             "#fdca26"
            ],
            [
             1,
             "#f0f921"
            ]
           ],
           "sequentialminus": [
            [
             0,
             "#0d0887"
            ],
            [
             0.1111111111111111,
             "#46039f"
            ],
            [
             0.2222222222222222,
             "#7201a8"
            ],
            [
             0.3333333333333333,
             "#9c179e"
            ],
            [
             0.4444444444444444,
             "#bd3786"
            ],
            [
             0.5555555555555556,
             "#d8576b"
            ],
            [
             0.6666666666666666,
             "#ed7953"
            ],
            [
             0.7777777777777778,
             "#fb9f3a"
            ],
            [
             0.8888888888888888,
             "#fdca26"
            ],
            [
             1,
             "#f0f921"
            ]
           ]
          },
          "colorway": [
           "#636efa",
           "#EF553B",
           "#00cc96",
           "#ab63fa",
           "#FFA15A",
           "#19d3f3",
           "#FF6692",
           "#B6E880",
           "#FF97FF",
           "#FECB52"
          ],
          "font": {
           "color": "#2a3f5f"
          },
          "geo": {
           "bgcolor": "white",
           "lakecolor": "white",
           "landcolor": "white",
           "showlakes": true,
           "showland": true,
           "subunitcolor": "#C8D4E3"
          },
          "hoverlabel": {
           "align": "left"
          },
          "hovermode": "closest",
          "mapbox": {
           "style": "light"
          },
          "paper_bgcolor": "white",
          "plot_bgcolor": "white",
          "polar": {
           "angularaxis": {
            "gridcolor": "#EBF0F8",
            "linecolor": "#EBF0F8",
            "ticks": ""
           },
           "bgcolor": "white",
           "radialaxis": {
            "gridcolor": "#EBF0F8",
            "linecolor": "#EBF0F8",
            "ticks": ""
           }
          },
          "scene": {
           "xaxis": {
            "backgroundcolor": "white",
            "gridcolor": "#DFE8F3",
            "gridwidth": 2,
            "linecolor": "#EBF0F8",
            "showbackground": true,
            "ticks": "",
            "zerolinecolor": "#EBF0F8"
           },
           "yaxis": {
            "backgroundcolor": "white",
            "gridcolor": "#DFE8F3",
            "gridwidth": 2,
            "linecolor": "#EBF0F8",
            "showbackground": true,
            "ticks": "",
            "zerolinecolor": "#EBF0F8"
           },
           "zaxis": {
            "backgroundcolor": "white",
            "gridcolor": "#DFE8F3",
            "gridwidth": 2,
            "linecolor": "#EBF0F8",
            "showbackground": true,
            "ticks": "",
            "zerolinecolor": "#EBF0F8"
           }
          },
          "shapedefaults": {
           "line": {
            "color": "#2a3f5f"
           }
          },
          "ternary": {
           "aaxis": {
            "gridcolor": "#DFE8F3",
            "linecolor": "#A2B1C6",
            "ticks": ""
           },
           "baxis": {
            "gridcolor": "#DFE8F3",
            "linecolor": "#A2B1C6",
            "ticks": ""
           },
           "bgcolor": "white",
           "caxis": {
            "gridcolor": "#DFE8F3",
            "linecolor": "#A2B1C6",
            "ticks": ""
           }
          },
          "title": {
           "x": 0.05
          },
          "xaxis": {
           "automargin": true,
           "gridcolor": "#EBF0F8",
           "linecolor": "#EBF0F8",
           "ticks": "",
           "title": {
            "standoff": 15
           },
           "zerolinecolor": "#EBF0F8",
           "zerolinewidth": 2
          },
          "yaxis": {
           "automargin": true,
           "gridcolor": "#EBF0F8",
           "linecolor": "#EBF0F8",
           "ticks": "",
           "title": {
            "standoff": 15
           },
           "zerolinecolor": "#EBF0F8",
           "zerolinewidth": 2
          }
         }
        },
        "title": {
         "text": "Literacy Rate by Gender in Different States"
        },
        "xaxis": {
         "autorange": false,
         "range": [
          -0.5,
          35.5
         ],
         "title": {
          "text": "State"
         },
         "type": "category"
        },
        "yaxis": {
         "autorange": false,
         "range": [
          0,
          101.17149671152292
         ],
         "title": {
          "text": "Literacy Rate (%)"
         },
         "type": "linear"
        }
       }
      },
      "image/png": "[encoded data removed]",
      "text/html": [
       "<div>                            <div id=\"76a9a89c-9daa-4fd6-a478-50dd07b05c3c\" class=\"plotly-graph-div\" style=\"height:525px; width:100%;\"></div>            <script type=\"text/javascript\">                require([\"plotly\"], function(Plotly) {                    window.PLOTLYENV=window.PLOTLYENV || {};                                    if (document.getElementById(\"76a9a89c-9daa-4fd6-a478-50dd07b05c3c\")) {                    Plotly.newPlot(                        \"76a9a89c-9daa-4fd6-a478-50dd07b05c3c\",                        [{\"marker\":{\"color\":\"blue\"},\"name\":\"Male Literacy Rate\",\"x\":[\"INDIA\",\"State - JAMMU & KASHMIR\",\"State - HIMACHAL PRADESH\",\"State - PUNJAB\",\"State - CHANDIGARH\",\"State - UTTARAKHAND\",\"State - HARYANA\",\"State - NCT OF DELHI\",\"State - RAJASTHAN\",\"State - UTTAR PRADESH\",\"State - BIHAR\",\"State - SIKKIM\",\"State - ARUNACHAL PRADESH\",\"State - NAGALAND\",\"State - MANIPUR\",\"State - MIZORAM\",\"State - TRIPURA\",\"State - MEGHALAYA\",\"State - ASSAM\",\"State - WEST BENGAL\",\"State - JHARKHAND\",\"State - ODISHA\",\"State - CHHATTISGARH\",\"State - MADHYA PRADESH\",\"State - GUJARAT\",\"State - DAMAN & DIU\",\"State - DADRA & NAGAR HAVELI\",\"State - MAHARASHTRA\",\"State - ANDHRA PRADESH\",\"State - KARNATAKA\",\"State - GOA\",\"State - LAKSHADWEEP\",\"State - KERALA\",\"State - TAMIL NADU\",\"State - PUDUCHERRY\",\"State - ANDAMAN & NICOBAR ISLANDS\"],\"y\":[80.88354599560539,76.75369629503913,89.53218401945867,80.44151021727339,89.98679241269552,87.40285763794475,84.05751987383734,90.9373062250897,79.19414869459135,77.28072809254991,71.2038056973726,86.55225983348777,72.55099886522576,82.7508046965014,83.58301811266278,93.34813465083508,91.52635262331378,75.95492301273453,77.84820047321891,81.69064817626457,76.83675714359951,81.58507527098685,80.26907051515725,78.72849169321094,85.75021672365844,91.54358571355127,85.17411805485003,88.38048756958553,74.88296506318677,82.47469547695047,92.64954564602516,95.55684375639363,96.11292187594675,86.76512210847685,91.26469767919792,90.26693977517971],\"type\":\"bar\"},{\"marker\":{\"color\":\"pink\"},\"name\":\"Female Literacy Rate\",\"x\":[\"INDIA\",\"State - JAMMU & KASHMIR\",\"State - HIMACHAL PRADESH\",\"State - PUNJAB\",\"State - CHANDIGARH\",\"State - UTTARAKHAND\",\"State - HARYANA\",\"State - NCT OF DELHI\",\"State - RAJASTHAN\",\"State - UTTAR PRADESH\",\"State - BIHAR\",\"State - SIKKIM\",\"State - ARUNACHAL PRADESH\",\"State - NAGALAND\",\"State - MANIPUR\",\"State - MIZORAM\",\"State - TRIPURA\",\"State - MEGHALAYA\",\"State - ASSAM\",\"State - WEST BENGAL\",\"State - JHARKHAND\",\"State - ODISHA\",\"State - CHHATTISGARH\",\"State - MADHYA PRADESH\",\"State - GUJARAT\",\"State - DAMAN & DIU\",\"State - DADRA & NAGAR HAVELI\",\"State - MAHARASHTRA\",\"State - ANDHRA PRADESH\",\"State - KARNATAKA\",\"State - GOA\",\"State - LAKSHADWEEP\",\"State - KERALA\",\"State - TAMIL NADU\",\"State - PUDUCHERRY\",\"State - ANDAMAN & NICOBAR ISLANDS\"],\"y\":[64.63466024995945,56.433975219941644,75.92715176825604,70.73140050051104,81.18905008248008,70.00724378083595,65.94480573723564,80.7580597998048,52.11995435613363,57.18423392806595,51.50154394735422,75.61105103510738,57.69773074262584,76.11396967880802,70.25749493462531,89.26752626406362,82.72834307076644,72.88738728562619,66.26906786966974,70.54015243987317,55.41711191219124,64.00806135107827,60.23554818368901,59.23620233448431,69.67531044364527,79.54863017116622,64.31764752759294,75.87080149475281,59.148916016823726,68.0813738805741,84.66085692194426,87.94636454897461,92.069529686796,73.43511667572223,80.67393893469868,82.42534993210747],\"type\":\"bar\"}],                        {\"template\":{\"data\":{\"barpolar\":[{\"marker\":{\"line\":{\"color\":\"white\",\"width\":0.5},\"pattern\":{\"fillmode\":\"overlay\",\"size\":10,\"solidity\":0.2}},\"type\":\"barpolar\"}],\"bar\":[{\"error_x\":{\"color\":\"#2a3f5f\"},\"error_y\":{\"color\":\"#2a3f5f\"},\"marker\":{\"line\":{\"color\":\"white\",\"width\":0.5},\"pattern\":{\"fillmode\":\"overlay\",\"size\":10,\"solidity\":0.2}},\"type\":\"bar\"}],\"carpet\":[{\"aaxis\":{\"endlinecolor\":\"#2a3f5f\",\"gridcolor\":\"#C8D4E3\",\"linecolor\":\"#C8D4E3\",\"minorgridcolor\":\"#C8D4E3\",\"startlinecolor\":\"#2a3f5f\"},\"baxis\":{\"endlinecolor\":\"#2a3f5f\",\"gridcolor\":\"#C8D4E3\",\"linecolor\":\"#C8D4E3\",\"minorgridcolor\":\"#C8D4E3\",\"startlinecolor\":\"#2a3f5f\"},\"type\":\"carpet\"}],\"choropleth\":[{\"colorbar\":{\"outlinewidth\":0,\"ticks\":\"\"},\"type\":\"choropleth\"}],\"contourcarpet\":[{\"colorbar\":{\"outlinewidth\":0,\"ticks\":\"\"},\"type\":\"contourcarpet\"}],\"contour\":[{\"colorbar\":{\"outlinewidth\":0,\"ticks\":\"\"},\"colorscale\":[[0.0,\"#0d0887\"],[0.1111111111111111,\"#46039f\"],[0.2222222222222222,\"#7201a8\"],[0.3333333333333333,\"#9c179e\"],[0.4444444444444444,\"#bd3786\"],[0.5555555555555556,\"#d8576b\"],[0.6666666666666666,\"#ed7953\"],[0.7777777777777778,\"#fb9f3a\"],[0.8888888888888888,\"#fdca26\"],[1.0,\"#f0f921\"]],\"type\":\"contour\"}],\"heatmapgl\":[{\"colorbar\":{\"outlinewidth\":0,\"ticks\":\"\"},\"colorscale\":[[0.0,\"#0d0887\"],[0.1111111111111111,\"#46039f\"],[0.2222222222222222,\"#7201a8\"],[0.3333333333333333,\"#9c179e\"],[0.4444444444444444,\"#bd3786\"],[0.5555555555555556,\"#d8576b\"],[0.6666666666666666,\"#ed7953\"],[0.7777777777777778,\"#fb9f3a\"],[0.8888888888888888,\"#fdca26\"],[1.0,\"#f0f921\"]],\"type\":\"heatmapgl\"}],\"heatmap\":[{\"colorbar\":{\"outlinewidth\":0,\"ticks\":\"\"},\"colorscale\":[[0.0,\"#0d0887\"],[0.1111111111111111,\"#46039f\"],[0.2222222222222222,\"#7201a8\"],[0.3333333333333333,\"#9c179e\"],[0.4444444444444444,\"#bd3786\"],[0.5555555555555556,\"#d8576b\"],[0.6666666666666666,\"#ed7953\"],[0.7777777777777778,\"#fb9f3a\"],[0.8888888888888888,\"#fdca26\"],[1.0,\"#f0f921\"]],\"type\":\"heatmap\"}],\"histogram2dcontour\":[{\"colorbar\":{\"outlinewidth\":0,\"ticks\":\"\"},\"colorscale\":[[0.0,\"#0d0887\"],[0.1111111111111111,\"#46039f\"],[0.2222222222222222,\"#7201a8\"],[0.3333333333333333,\"#9c179e\"],[0.4444444444444444,\"#bd3786\"],[0.5555555555555556,\"#d8576b\"],[0.6666666666666666,\"#ed7953\"],[0.7777777777777778,\"#fb9f3a\"],[0.8888888888888888,\"#fdca26\"],[1.0,\"#f0f921\"]],\"type\":\"histogram2dcontour\"}],\"histogram2d\":[{\"colorbar\":{\"outlinewidth\":0,\"ticks\":\"\"},\"colorscale\":[[0.0,\"#0d0887\"],[0.1111111111111111,\"#46039f\"],[0.2222222222222222,\"#7201a8\"],[0.3333333333333333,\"#9c179e\"],[0.4444444444444444,\"#bd3786\"],[0.5555555555555556,\"#d8576b\"],[0.6666666666666666,\"#ed7953\"],[0.7777777777777778,\"#fb9f3a\"],[0.8888888888888888,\"#fdca26\"],[1.0,\"#f0f921\"]],\"type\":\"histogram2d\"}],\"histogram\":[{\"marker\":{\"pattern\":{\"fillmode\":\"overlay\",\"size\":10,\"solidity\":0.2}},\"type\":\"histogram\"}],\"mesh3d\":[{\"colorbar\":{\"outlinewidth\":0,\"ticks\":\"\"},\"type\":\"mesh3d\"}],\"parcoords\":[{\"line\":{\"colorbar\":{\"outlinewidth\":0,\"ticks\":\"\"}},\"type\":\"parcoords\"}],\"pie\":[{\"automargin\":true,\"type\":\"pie\"}],\"scatter3d\":[{\"line\":{\"colorbar\":{\"outlinewidth\":0,\"ticks\":\"\"}},\"marker\":{\"colorbar\":{\"outlinewidth\":0,\"ticks\":\"\"}},\"type\":\"scatter3d\"}],\"scattercarpet\":[{\"marker\":{\"colorbar\":{\"outlinewidth\":0,\"ticks\":\"\"}},\"type\":\"scattercarpet\"}],\"scattergeo\":[{\"marker\":{\"colorbar\":{\"outlinewidth\":0,\"ticks\":\"\"}},\"type\":\"scattergeo\"}],\"scattergl\":[{\"marker\":{\"colorbar\":{\"outlinewidth\":0,\"ticks\":\"\"}},\"type\":\"scattergl\"}],\"scattermapbox\":[{\"marker\":{\"colorbar\":{\"outlinewidth\":0,\"ticks\":\"\"}},\"type\":\"scattermapbox\"}],\"scatterpolargl\":[{\"marker\":{\"colorbar\":{\"outlinewidth\":0,\"ticks\":\"\"}},\"type\":\"scatterpolargl\"}],\"scatterpolar\":[{\"marker\":{\"colorbar\":{\"outlinewidth\":0,\"ticks\":\"\"}},\"type\":\"scatterpolar\"}],\"scatter\":[{\"fillpattern\":{\"fillmode\":\"overlay\",\"size\":10,\"solidity\":0.2},\"type\":\"scatter\"}],\"scatterternary\":[{\"marker\":{\"colorbar\":{\"outlinewidth\":0,\"ticks\":\"\"}},\"type\":\"scatterternary\"}],\"surface\":[{\"colorbar\":{\"outlinewidth\":0,\"ticks\":\"\"},\"colorscale\":[[0.0,\"#0d0887\"],[0.1111111111111111,\"#46039f\"],[0.2222222222222222,\"#7201a8\"],[0.3333333333333333,\"#9c179e\"],[0.4444444444444444,\"#bd3786\"],[0.5555555555555556,\"#d8576b\"],[0.6666666666666666,\"#ed7953\"],[0.7777777777777778,\"#fb9f3a\"],[0.8888888888888888,\"#fdca26\"],[1.0,\"#f0f921\"]],\"type\":\"surface\"}],\"table\":[{\"cells\":{\"fill\":{\"color\":\"#EBF0F8\"},\"line\":{\"color\":\"white\"}},\"header\":{\"fill\":{\"color\":\"#C8D4E3\"},\"line\":{\"color\":\"white\"}},\"type\":\"table\"}]},\"layout\":{\"annotationdefaults\":{\"arrowcolor\":\"#2a3f5f\",\"arrowhead\":0,\"arrowwidth\":1},\"autotypenumbers\":\"strict\",\"coloraxis\":{\"colorbar\":{\"outlinewidth\":0,\"ticks\":\"\"}},\"colorscale\":{\"diverging\":[[0,\"#8e0152\"],[0.1,\"#c51b7d\"],[0.2,\"#de77ae\"],[0.3,\"#f1b6da\"],[0.4,\"#fde0ef\"],[0.5,\"#f7f7f7\"],[0.6,\"#e6f5d0\"],[0.7,\"#b8e186\"],[0.8,\"#7fbc41\"],[0.9,\"#4d9221\"],[1,\"#276419\"]],\"sequential\":[[0.0,\"#0d0887\"],[0.1111111111111111,\"#46039f\"],[0.2222222222222222,\"#7201a8\"],[0.3333333333333333,\"#9c179e\"],[0.4444444444444444,\"#bd3786\"],[0.5555555555555556,\"#d8576b\"],[0.6666666666666666,\"#ed7953\"],[0.7777777777777778,\"#fb9f3a\"],[0.8888888888888888,\"#fdca26\"],[1.0,\"#f0f921\"]],\"sequentialminus\":[[0.0,\"#0d0887\"],[0.1111111111111111,\"#46039f\"],[0.2222222222222222,\"#7201a8\"],[0.3333333333333333,\"#9c179e\"],[0.4444444444444444,\"#bd3786\"],[0.5555555555555556,\"#d8576b\"],[0.6666666666666666,\"#ed7953\"],[0.7777777777777778,\"#fb9f3a\"],[0.8888888888888888,\"#fdca26\"],[1.0,\"#f0f921\"]]},\"colorway\":[\"#636efa\",\"#EF553B\",\"#00cc96\",\"#ab63fa\",\"#FFA15A\",\"#19d3f3\",\"#FF6692\",\"#B6E880\",\"#FF97FF\",\"#FECB52\"],\"font\":{\"color\":\"#2a3f5f\"},\"geo\":{\"bgcolor\":\"white\",\"lakecolor\":\"white\",\"landcolor\":\"white\",\"showlakes\":true,\"showland\":true,\"subunitcolor\":\"#C8D4E3\"},\"hoverlabel\":{\"align\":\"left\"},\"hovermode\":\"closest\",\"mapbox\":{\"style\":\"light\"},\"paper_bgcolor\":\"white\",\"plot_bgcolor\":\"white\",\"polar\":{\"angularaxis\":{\"gridcolor\":\"#EBF0F8\",\"linecolor\":\"#EBF0F8\",\"ticks\":\"\"},\"bgcolor\":\"white\",\"radialaxis\":{\"gridcolor\":\"#EBF0F8\",\"linecolor\":\"#EBF0F8\",\"ticks\":\"\"}},\"scene\":{\"xaxis\":{\"backgroundcolor\":\"white\",\"gridcolor\":\"#DFE8F3\",\"gridwidth\":2,\"linecolor\":\"#EBF0F8\",\"showbackground\":true,\"ticks\":\"\",\"zerolinecolor\":\"#EBF0F8\"},\"yaxis\":{\"backgroundcolor\":\"white\",\"gridcolor\":\"#DFE8F3\",\"gridwidth\":2,\"linecolor\":\"#EBF0F8\",\"showbackground\":true,\"ticks\":\"\",\"zerolinecolor\":\"#EBF0F8\"},\"zaxis\":{\"backgroundcolor\":\"white\",\"gridcolor\":\"#DFE8F3\",\"gridwidth\":2,\"linecolor\":\"#EBF0F8\",\"showbackground\":true,\"ticks\":\"\",\"zerolinecolor\":\"#EBF0F8\"}},\"shapedefaults\":{\"line\":{\"color\":\"#2a3f5f\"}},\"ternary\":{\"aaxis\":{\"gridcolor\":\"#DFE8F3\",\"linecolor\":\"#A2B1C6\",\"ticks\":\"\"},\"baxis\":{\"gridcolor\":\"#DFE8F3\",\"linecolor\":\"#A2B1C6\",\"ticks\":\"\"},\"bgcolor\":\"white\",\"caxis\":{\"gridcolor\":\"#DFE8F3\",\"linecolor\":\"#A2B1C6\",\"ticks\":\"\"}},\"title\":{\"x\":0.05},\"xaxis\":{\"automargin\":true,\"gridcolor\":\"#EBF0F8\",\"linecolor\":\"#EBF0F8\",\"ticks\":\"\",\"title\":{\"standoff\":15},\"zerolinecolor\":\"#EBF0F8\",\"zerolinewidth\":2},\"yaxis\":{\"automargin\":true,\"gridcolor\":\"#EBF0F8\",\"linecolor\":\"#EBF0F8\",\"ticks\":\"\",\"title\":{\"standoff\":15},\"zerolinecolor\":\"#EBF0F8\",\"zerolinewidth\":2}}},\"title\":{\"text\":\"Literacy Rate by Gender in Different States\"},\"xaxis\":{\"title\":{\"text\":\"State\"}},\"yaxis\":{\"title\":{\"text\":\"Literacy Rate (%)\"}},\"barmode\":\"group\"},                        {\"responsive\": true}                    ).then(function(){\n",
       "                            \n",
       "var gd = document.getElementById('76a9a89c-9daa-4fd6-a478-50dd07b05c3c');\n",
       "var x = new MutationObserver(function (mutations, observer) {{\n",
       "        var display = window.getComputedStyle(gd).display;\n",
       "        if (!display || display === 'none') {{\n",
       "            console.log([gd, 'removed!']);\n",
       "            Plotly.purge(gd);\n",
       "            observer.disconnect();\n",
       "        }}\n",
       "}});\n",
       "\n",
       "// Listen for the removal of the full notebook cells\n",
       "var notebookContainer = gd.closest('#notebook-container');\n",
       "if (notebookContainer) {{\n",
       "    x.observe(notebookContainer, {childList: true});\n",
       "}}\n",
       "\n",
       "// Listen for the clearing of the current output cell\n",
       "var outputEl = gd.closest('.output');\n",
       "if (outputEl) {{\n",
       "    x.observe(outputEl, {childList: true});\n",
       "}}\n",
       "\n",
       "                        })                };                });            </script>        </div>"
      ]
     },
     "metadata": {},
     "output_type": "display_data"
    }
   ],
   "source": [
    "# Create a bar plot\n",
    "fig = go.Figure()\n",
    "fig.add_trace(go.Bar(\n",
    "    x=states,\n",
    "    y=male_lit_rate,\n",
    "    name=\"Male Literacy Rate\",\n",
    "    marker_color=\"blue\"\n",
    "))\n",
    "\n",
    "fig.add_trace(go.Bar(\n",
    "    x=states,\n",
    "    y=female_lit_rate,\n",
    "    name=\"Female Literacy Rate\",\n",
    "    marker_color=\"pink\"\n",
    "))\n",
    "\n",
    "# Update layout\n",
    "fig.update_layout(\n",
    "    title=\"Literacy Rate by Gender in Different States\",\n",
    "    xaxis_title='State',\n",
    "    yaxis_title=\"Literacy Rate (%)\",\n",
    "    barmode='group',\n",
    "    template=\"plotly_white\"\n",
    ")\n",
    "\n",
    "# Show the plot\n",
    "fig.show()\n",
    "\n",
    "# Conversion of png image to html to view interactive plot\n",
    "fig.write_html(\"literacy_rate_by_gender.html\")"
   ]
  },
  {
   "cell_type": "code",
   "execution_count": null,
   "id": "ac91a891-ac51-49d0-a7cf-7c58f512605a",
   "metadata": {},
   "outputs": [],
   "source": []
  }
 ],
 "metadata": {
  "kernelspec": {
   "display_name": "Python 3 (ipykernel)",
   "language": "python",
   "name": "python3"
  },
  "language_info": {
   "codemirror_mode": {
    "name": "ipython",
    "version": 3
   },
   "file_extension": ".py",
   "mimetype": "text/x-python",
   "name": "python",
   "nbconvert_exporter": "python",
   "pygments_lexer": "ipython3",
   "version": "3.10.0"
  }
 },
 "nbformat": 4,
 "nbformat_minor": 5
}
